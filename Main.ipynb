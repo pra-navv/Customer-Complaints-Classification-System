{
 "cells": [
  {
   "cell_type": "code",
   "execution_count": 3,
   "id": "8ae96613",
   "metadata": {
    "id": "8ae96613"
   },
   "outputs": [],
   "source": [
    "import warnings\n",
    "warnings.filterwarnings('ignore')\n",
    "import pandas as pd\n",
    "import numpy as np"
   ]
  },
  {
   "cell_type": "code",
   "execution_count": 4,
   "id": "760a2037",
   "metadata": {
    "colab": {
     "base_uri": "https://localhost:8080/",
     "height": 206
    },
    "id": "760a2037",
    "outputId": "a0a4fecd-a6b4-4659-ea88-604206924d0c"
   },
   "outputs": [
    {
     "data": {
      "text/html": [
       "<div>\n",
       "<style scoped>\n",
       "    .dataframe tbody tr th:only-of-type {\n",
       "        vertical-align: middle;\n",
       "    }\n",
       "\n",
       "    .dataframe tbody tr th {\n",
       "        vertical-align: top;\n",
       "    }\n",
       "\n",
       "    .dataframe thead th {\n",
       "        text-align: right;\n",
       "    }\n",
       "</style>\n",
       "<table border=\"1\" class=\"dataframe\">\n",
       "  <thead>\n",
       "    <tr style=\"text-align: right;\">\n",
       "      <th></th>\n",
       "      <th>Unnamed: 0</th>\n",
       "      <th>product</th>\n",
       "      <th>narrative</th>\n",
       "    </tr>\n",
       "  </thead>\n",
       "  <tbody>\n",
       "    <tr>\n",
       "      <th>0</th>\n",
       "      <td>0</td>\n",
       "      <td>credit_card</td>\n",
       "      <td>purchase order day shipping amount receive pro...</td>\n",
       "    </tr>\n",
       "    <tr>\n",
       "      <th>1</th>\n",
       "      <td>1</td>\n",
       "      <td>credit_card</td>\n",
       "      <td>forwarded message date tue subject please inve...</td>\n",
       "    </tr>\n",
       "    <tr>\n",
       "      <th>2</th>\n",
       "      <td>2</td>\n",
       "      <td>retail_banking</td>\n",
       "      <td>forwarded message cc sent friday pdt subject f...</td>\n",
       "    </tr>\n",
       "    <tr>\n",
       "      <th>3</th>\n",
       "      <td>3</td>\n",
       "      <td>credit_reporting</td>\n",
       "      <td>payment history missing credit report speciali...</td>\n",
       "    </tr>\n",
       "    <tr>\n",
       "      <th>4</th>\n",
       "      <td>4</td>\n",
       "      <td>credit_reporting</td>\n",
       "      <td>payment history missing credit report made mis...</td>\n",
       "    </tr>\n",
       "  </tbody>\n",
       "</table>\n",
       "</div>"
      ],
      "text/plain": [
       "   Unnamed: 0           product  \\\n",
       "0           0       credit_card   \n",
       "1           1       credit_card   \n",
       "2           2    retail_banking   \n",
       "3           3  credit_reporting   \n",
       "4           4  credit_reporting   \n",
       "\n",
       "                                           narrative  \n",
       "0  purchase order day shipping amount receive pro...  \n",
       "1  forwarded message date tue subject please inve...  \n",
       "2  forwarded message cc sent friday pdt subject f...  \n",
       "3  payment history missing credit report speciali...  \n",
       "4  payment history missing credit report made mis...  "
      ]
     },
     "execution_count": 4,
     "metadata": {},
     "output_type": "execute_result"
    }
   ],
   "source": [
    "df=pd.read_excel(r\"C:\\Users\\Rupam Patil\\Desktop\\Datathon\\Datathon.xlsx\")\n",
    "df.head()"
   ]
  },
  {
   "cell_type": "code",
   "execution_count": 5,
   "id": "f36efd76",
   "metadata": {
    "id": "f36efd76"
   },
   "outputs": [],
   "source": [
    "df.rename(columns={'Unnamed: 0':'Complaint_No'},inplace=True)"
   ]
  },
  {
   "cell_type": "code",
   "execution_count": 6,
   "id": "7e79b472",
   "metadata": {
    "colab": {
     "base_uri": "https://localhost:8080/",
     "height": 206
    },
    "id": "7e79b472",
    "outputId": "cfbf8621-2a80-44b3-819f-cb52cb6226ef"
   },
   "outputs": [
    {
     "data": {
      "text/html": [
       "<div>\n",
       "<style scoped>\n",
       "    .dataframe tbody tr th:only-of-type {\n",
       "        vertical-align: middle;\n",
       "    }\n",
       "\n",
       "    .dataframe tbody tr th {\n",
       "        vertical-align: top;\n",
       "    }\n",
       "\n",
       "    .dataframe thead th {\n",
       "        text-align: right;\n",
       "    }\n",
       "</style>\n",
       "<table border=\"1\" class=\"dataframe\">\n",
       "  <thead>\n",
       "    <tr style=\"text-align: right;\">\n",
       "      <th></th>\n",
       "      <th>Complaint_No</th>\n",
       "      <th>product</th>\n",
       "      <th>narrative</th>\n",
       "    </tr>\n",
       "  </thead>\n",
       "  <tbody>\n",
       "    <tr>\n",
       "      <th>0</th>\n",
       "      <td>0</td>\n",
       "      <td>credit_card</td>\n",
       "      <td>purchase order day shipping amount receive pro...</td>\n",
       "    </tr>\n",
       "    <tr>\n",
       "      <th>1</th>\n",
       "      <td>1</td>\n",
       "      <td>credit_card</td>\n",
       "      <td>forwarded message date tue subject please inve...</td>\n",
       "    </tr>\n",
       "    <tr>\n",
       "      <th>2</th>\n",
       "      <td>2</td>\n",
       "      <td>retail_banking</td>\n",
       "      <td>forwarded message cc sent friday pdt subject f...</td>\n",
       "    </tr>\n",
       "    <tr>\n",
       "      <th>3</th>\n",
       "      <td>3</td>\n",
       "      <td>credit_reporting</td>\n",
       "      <td>payment history missing credit report speciali...</td>\n",
       "    </tr>\n",
       "    <tr>\n",
       "      <th>4</th>\n",
       "      <td>4</td>\n",
       "      <td>credit_reporting</td>\n",
       "      <td>payment history missing credit report made mis...</td>\n",
       "    </tr>\n",
       "  </tbody>\n",
       "</table>\n",
       "</div>"
      ],
      "text/plain": [
       "   Complaint_No           product  \\\n",
       "0             0       credit_card   \n",
       "1             1       credit_card   \n",
       "2             2    retail_banking   \n",
       "3             3  credit_reporting   \n",
       "4             4  credit_reporting   \n",
       "\n",
       "                                           narrative  \n",
       "0  purchase order day shipping amount receive pro...  \n",
       "1  forwarded message date tue subject please inve...  \n",
       "2  forwarded message cc sent friday pdt subject f...  \n",
       "3  payment history missing credit report speciali...  \n",
       "4  payment history missing credit report made mis...  "
      ]
     },
     "execution_count": 6,
     "metadata": {},
     "output_type": "execute_result"
    }
   ],
   "source": [
    "df.head()"
   ]
  },
  {
   "cell_type": "code",
   "execution_count": 7,
   "id": "3d56b631",
   "metadata": {
    "colab": {
     "base_uri": "https://localhost:8080/"
    },
    "id": "3d56b631",
    "outputId": "dbc95aab-006e-4ffe-eeb5-1ffc21057331"
   },
   "outputs": [
    {
     "data": {
      "text/plain": [
       "array(['credit_card', 'retail_banking', 'credit_reporting',\n",
       "       'mortgages_and_loans', 'debt_collection'], dtype=object)"
      ]
     },
     "execution_count": 7,
     "metadata": {},
     "output_type": "execute_result"
    }
   ],
   "source": [
    "unique = df[\"product\"].unique()\n",
    "unique"
   ]
  },
  {
   "cell_type": "code",
   "execution_count": 8,
   "id": "888ca69b",
   "metadata": {
    "id": "888ca69b"
   },
   "outputs": [],
   "source": [
    "import matplotlib.pyplot as plt\n",
    "import seaborn as sns"
   ]
  },
  {
   "cell_type": "code",
   "execution_count": 9,
   "id": "4b0da656",
   "metadata": {
    "colab": {
     "base_uri": "https://localhost:8080/",
     "height": 1000
    },
    "id": "4b0da656",
    "outputId": "a530eb5d-2fc7-4719-f586-05ecfb037ae1"
   },
   "outputs": [
    {
     "data": {
      "image/png": "[encoded data removed]",
      "text/plain": [
       "<Figure size 640x480 with 1 Axes>"
      ]
     },
     "metadata": {},
     "output_type": "display_data"
    },
    {
     "data": {
      "image/png": "[encoded data removed]",
      "text/plain": [
       "<Figure size 640x480 with 1 Axes>"
      ]
     },
     "metadata": {},
     "output_type": "display_data"
    }
   ],
   "source": [
    "sns.countplot(x = 'product',data = df)\n",
    "plt.title('Distribution of complaints by product')\n",
    "plt.xticks(rotation = 45)\n",
    "plt.show()\n",
    "\n",
    "df['narrative_length']=df['narrative'].apply(lambda x: len(str(x)) if pd.notnull(x) else 0)\n",
    "sns.histplot(df['narrative_length'])\n",
    "plt.title('Distribution of Narrative Lengths')\n",
    "plt.xticks(rotation=45)  # Rotate x-axis labels for better visibility\n",
    "plt.show()"
   ]
  },
  {
   "cell_type": "code",
   "execution_count": 10,
   "id": "d9a6d01f",
   "metadata": {
    "colab": {
     "base_uri": "https://localhost:8080/",
     "height": 660
    },
    "id": "d9a6d01f",
    "outputId": "97e2d60f-779e-4389-dbaa-0083c8c6282d"
   },
   "outputs": [
    {
     "data": {
      "text/html": [
       "<div>\n",
       "<style scoped>\n",
       "    .dataframe tbody tr th:only-of-type {\n",
       "        vertical-align: middle;\n",
       "    }\n",
       "\n",
       "    .dataframe tbody tr th {\n",
       "        vertical-align: top;\n",
       "    }\n",
       "\n",
       "    .dataframe thead th {\n",
       "        text-align: right;\n",
       "    }\n",
       "</style>\n",
       "<table border=\"1\" class=\"dataframe\">\n",
       "  <thead>\n",
       "    <tr style=\"text-align: right;\">\n",
       "      <th></th>\n",
       "      <th>Complaint_No</th>\n",
       "      <th>product</th>\n",
       "      <th>narrative</th>\n",
       "      <th>narrative_length</th>\n",
       "      <th>credit_card</th>\n",
       "      <th>credit_reporting</th>\n",
       "      <th>debt_collection</th>\n",
       "      <th>mortgages_and_loans</th>\n",
       "      <th>retail_banking</th>\n",
       "    </tr>\n",
       "  </thead>\n",
       "  <tbody>\n",
       "    <tr>\n",
       "      <th>0</th>\n",
       "      <td>0</td>\n",
       "      <td>credit_card</td>\n",
       "      <td>purchase order day shipping amount receive pro...</td>\n",
       "      <td>1705</td>\n",
       "      <td>True</td>\n",
       "      <td>False</td>\n",
       "      <td>False</td>\n",
       "      <td>False</td>\n",
       "      <td>False</td>\n",
       "    </tr>\n",
       "    <tr>\n",
       "      <th>1</th>\n",
       "      <td>1</td>\n",
       "      <td>credit_card</td>\n",
       "      <td>forwarded message date tue subject please inve...</td>\n",
       "      <td>904</td>\n",
       "      <td>True</td>\n",
       "      <td>False</td>\n",
       "      <td>False</td>\n",
       "      <td>False</td>\n",
       "      <td>False</td>\n",
       "    </tr>\n",
       "    <tr>\n",
       "      <th>2</th>\n",
       "      <td>2</td>\n",
       "      <td>retail_banking</td>\n",
       "      <td>forwarded message cc sent friday pdt subject f...</td>\n",
       "      <td>1230</td>\n",
       "      <td>False</td>\n",
       "      <td>False</td>\n",
       "      <td>False</td>\n",
       "      <td>False</td>\n",
       "      <td>True</td>\n",
       "    </tr>\n",
       "    <tr>\n",
       "      <th>3</th>\n",
       "      <td>3</td>\n",
       "      <td>credit_reporting</td>\n",
       "      <td>payment history missing credit report speciali...</td>\n",
       "      <td>903</td>\n",
       "      <td>False</td>\n",
       "      <td>True</td>\n",
       "      <td>False</td>\n",
       "      <td>False</td>\n",
       "      <td>False</td>\n",
       "    </tr>\n",
       "    <tr>\n",
       "      <th>4</th>\n",
       "      <td>4</td>\n",
       "      <td>credit_reporting</td>\n",
       "      <td>payment history missing credit report made mis...</td>\n",
       "      <td>851</td>\n",
       "      <td>False</td>\n",
       "      <td>True</td>\n",
       "      <td>False</td>\n",
       "      <td>False</td>\n",
       "      <td>False</td>\n",
       "    </tr>\n",
       "  </tbody>\n",
       "</table>\n",
       "</div>"
      ],
      "text/plain": [
       "   Complaint_No           product  \\\n",
       "0             0       credit_card   \n",
       "1             1       credit_card   \n",
       "2             2    retail_banking   \n",
       "3             3  credit_reporting   \n",
       "4             4  credit_reporting   \n",
       "\n",
       "                                           narrative  narrative_length  \\\n",
       "0  purchase order day shipping amount receive pro...              1705   \n",
       "1  forwarded message date tue subject please inve...               904   \n",
       "2  forwarded message cc sent friday pdt subject f...              1230   \n",
       "3  payment history missing credit report speciali...               903   \n",
       "4  payment history missing credit report made mis...               851   \n",
       "\n",
       "   credit_card  credit_reporting  debt_collection  mortgages_and_loans  \\\n",
       "0         True             False            False                False   \n",
       "1         True             False            False                False   \n",
       "2        False             False            False                False   \n",
       "3        False              True            False                False   \n",
       "4        False              True            False                False   \n",
       "\n",
       "   retail_banking  \n",
       "0           False  \n",
       "1           False  \n",
       "2            True  \n",
       "3           False  \n",
       "4           False  "
      ]
     },
     "execution_count": 10,
     "metadata": {},
     "output_type": "execute_result"
    }
   ],
   "source": [
    "df_encoded = pd.get_dummies(df['product'])\n",
    "df = pd.concat([df, df_encoded], axis=1)\n",
    "df.head()"
   ]
  },
  {
   "cell_type": "code",
   "execution_count": 11,
   "id": "effc74b9",
   "metadata": {
    "id": "effc74b9"
   },
   "outputs": [],
   "source": [
    "df = df.drop('product',axis = 1)"
   ]
  },
  {
   "cell_type": "code",
   "execution_count": 12,
   "id": "67d804a2",
   "metadata": {
    "colab": {
     "base_uri": "https://localhost:8080/",
     "height": 379
    },
    "id": "67d804a2",
    "outputId": "2e8c984b-402c-4257-a776-f6a9795cff0f"
   },
   "outputs": [
    {
     "data": {
      "text/html": [
       "<div>\n",
       "<style scoped>\n",
       "    .dataframe tbody tr th:only-of-type {\n",
       "        vertical-align: middle;\n",
       "    }\n",
       "\n",
       "    .dataframe tbody tr th {\n",
       "        vertical-align: top;\n",
       "    }\n",
       "\n",
       "    .dataframe thead th {\n",
       "        text-align: right;\n",
       "    }\n",
       "</style>\n",
       "<table border=\"1\" class=\"dataframe\">\n",
       "  <thead>\n",
       "    <tr style=\"text-align: right;\">\n",
       "      <th></th>\n",
       "      <th>Complaint_No</th>\n",
       "      <th>narrative</th>\n",
       "      <th>narrative_length</th>\n",
       "      <th>credit_card</th>\n",
       "      <th>credit_reporting</th>\n",
       "      <th>debt_collection</th>\n",
       "      <th>mortgages_and_loans</th>\n",
       "      <th>retail_banking</th>\n",
       "    </tr>\n",
       "  </thead>\n",
       "  <tbody>\n",
       "    <tr>\n",
       "      <th>0</th>\n",
       "      <td>0</td>\n",
       "      <td>purchase order day shipping amount receive pro...</td>\n",
       "      <td>1705</td>\n",
       "      <td>True</td>\n",
       "      <td>False</td>\n",
       "      <td>False</td>\n",
       "      <td>False</td>\n",
       "      <td>False</td>\n",
       "    </tr>\n",
       "    <tr>\n",
       "      <th>1</th>\n",
       "      <td>1</td>\n",
       "      <td>forwarded message date tue subject please inve...</td>\n",
       "      <td>904</td>\n",
       "      <td>True</td>\n",
       "      <td>False</td>\n",
       "      <td>False</td>\n",
       "      <td>False</td>\n",
       "      <td>False</td>\n",
       "    </tr>\n",
       "    <tr>\n",
       "      <th>2</th>\n",
       "      <td>2</td>\n",
       "      <td>forwarded message cc sent friday pdt subject f...</td>\n",
       "      <td>1230</td>\n",
       "      <td>False</td>\n",
       "      <td>False</td>\n",
       "      <td>False</td>\n",
       "      <td>False</td>\n",
       "      <td>True</td>\n",
       "    </tr>\n",
       "    <tr>\n",
       "      <th>3</th>\n",
       "      <td>3</td>\n",
       "      <td>payment history missing credit report speciali...</td>\n",
       "      <td>903</td>\n",
       "      <td>False</td>\n",
       "      <td>True</td>\n",
       "      <td>False</td>\n",
       "      <td>False</td>\n",
       "      <td>False</td>\n",
       "    </tr>\n",
       "    <tr>\n",
       "      <th>4</th>\n",
       "      <td>4</td>\n",
       "      <td>payment history missing credit report made mis...</td>\n",
       "      <td>851</td>\n",
       "      <td>False</td>\n",
       "      <td>True</td>\n",
       "      <td>False</td>\n",
       "      <td>False</td>\n",
       "      <td>False</td>\n",
       "    </tr>\n",
       "  </tbody>\n",
       "</table>\n",
       "</div>"
      ],
      "text/plain": [
       "   Complaint_No                                          narrative  \\\n",
       "0             0  purchase order day shipping amount receive pro...   \n",
       "1             1  forwarded message date tue subject please inve...   \n",
       "2             2  forwarded message cc sent friday pdt subject f...   \n",
       "3             3  payment history missing credit report speciali...   \n",
       "4             4  payment history missing credit report made mis...   \n",
       "\n",
       "   narrative_length  credit_card  credit_reporting  debt_collection  \\\n",
       "0              1705         True             False            False   \n",
       "1               904         True             False            False   \n",
       "2              1230        False             False            False   \n",
       "3               903        False              True            False   \n",
       "4               851        False              True            False   \n",
       "\n",
       "   mortgages_and_loans  retail_banking  \n",
       "0                False           False  \n",
       "1                False           False  \n",
       "2                False            True  \n",
       "3                False           False  \n",
       "4                False           False  "
      ]
     },
     "execution_count": 12,
     "metadata": {},
     "output_type": "execute_result"
    }
   ],
   "source": [
    "df.head()"
   ]
  },
  {
   "cell_type": "code",
   "execution_count": 13,
   "id": "b569f1ea",
   "metadata": {
    "colab": {
     "base_uri": "https://localhost:8080/"
    },
    "id": "b569f1ea",
    "outputId": "755ae9d7-b925-49b2-b6aa-7b49548715c9"
   },
   "outputs": [
    {
     "name": "stdout",
     "output_type": "stream",
     "text": [
      "<class 'pandas.core.frame.DataFrame'>\n",
      "RangeIndex: 162421 entries, 0 to 162420\n",
      "Data columns (total 8 columns):\n",
      " #   Column               Non-Null Count   Dtype \n",
      "---  ------               --------------   ----- \n",
      " 0   Complaint_No         162421 non-null  int64 \n",
      " 1   narrative            162411 non-null  object\n",
      " 2   narrative_length     162421 non-null  int64 \n",
      " 3   credit_card          162421 non-null  bool  \n",
      " 4   credit_reporting     162421 non-null  bool  \n",
      " 5   debt_collection      162421 non-null  bool  \n",
      " 6   mortgages_and_loans  162421 non-null  bool  \n",
      " 7   retail_banking       162421 non-null  bool  \n",
      "dtypes: bool(5), int64(2), object(1)\n",
      "memory usage: 4.5+ MB\n"
     ]
    }
   ],
   "source": [
    "df.info()"
   ]
  },
  {
   "cell_type": "code",
   "execution_count": 14,
   "id": "0aab6d87",
   "metadata": {
    "colab": {
     "base_uri": "https://localhost:8080/"
    },
    "id": "0aab6d87",
    "outputId": "46fbb4f0-99d1-423c-d399-9f83f88053c7"
   },
   "outputs": [
    {
     "data": {
      "text/plain": [
       "Complaint_No            0\n",
       "narrative              10\n",
       "narrative_length        0\n",
       "credit_card             0\n",
       "credit_reporting        0\n",
       "debt_collection         0\n",
       "mortgages_and_loans     0\n",
       "retail_banking          0\n",
       "dtype: int64"
      ]
     },
     "execution_count": 14,
     "metadata": {},
     "output_type": "execute_result"
    }
   ],
   "source": [
    "df.isnull().sum()"
   ]
  },
  {
   "cell_type": "code",
   "execution_count": 16,
   "id": "42817687",
   "metadata": {
    "id": "42817687"
   },
   "outputs": [],
   "source": [
    "df = df.dropna()"
   ]
  },
  {
   "cell_type": "code",
   "execution_count": 17,
   "id": "b157e1e6",
   "metadata": {
    "colab": {
     "base_uri": "https://localhost:8080/"
    },
    "id": "b157e1e6",
    "outputId": "3b0b482d-2109-49a2-cf9b-aa95d968e62a"
   },
   "outputs": [
    {
     "data": {
      "text/plain": [
       "Complaint_No           0\n",
       "narrative              0\n",
       "narrative_length       0\n",
       "credit_card            0\n",
       "credit_reporting       0\n",
       "debt_collection        0\n",
       "mortgages_and_loans    0\n",
       "retail_banking         0\n",
       "dtype: int64"
      ]
     },
     "execution_count": 17,
     "metadata": {},
     "output_type": "execute_result"
    }
   ],
   "source": [
    "df.isnull().sum()"
   ]
  },
  {
   "cell_type": "code",
   "execution_count": 18,
   "id": "23e6d5c3",
   "metadata": {
    "colab": {
     "base_uri": "https://localhost:8080/"
    },
    "id": "23e6d5c3",
    "outputId": "b17cab86-37a6-44e8-f838-1abe76b31a5b"
   },
   "outputs": [
    {
     "data": {
      "text/plain": [
       "0"
      ]
     },
     "execution_count": 18,
     "metadata": {},
     "output_type": "execute_result"
    }
   ],
   "source": [
    "df.duplicated().sum()"
   ]
  },
  {
   "cell_type": "code",
   "execution_count": 19,
   "id": "71ea82bc",
   "metadata": {
    "colab": {
     "base_uri": "https://localhost:8080/",
     "height": 308
    },
    "id": "71ea82bc",
    "outputId": "6ad3ce62-876a-44e0-ba8d-5cad25baf678"
   },
   "outputs": [
    {
     "data": {
      "image/png": "[encoded data removed]",
      "text/plain": [
       "<Figure size 1500x400 with 5 Axes>"
      ]
     },
     "metadata": {},
     "output_type": "display_data"
    }
   ],
   "source": [
    "import matplotlib.pyplot as plt\n",
    "# Count occurrences of each value in each column\n",
    "counts_credit_card = df[\"credit_card\"].value_counts()\n",
    "counts_credit_reporting = df[\"credit_reporting\"].value_counts()\n",
    "counts_debt_collection = df[\"debt_collection\"].value_counts()\n",
    "counts_mortgages_and_loans = df[\"mortgages_and_loans\"].value_counts()\n",
    "counts_retail_banking = df[\"retail_banking\"].value_counts()\n",
    "\n",
    "# Plotting\n",
    "fig, axes = plt.subplots(nrows=1, ncols=5, figsize=(15, 4))\n",
    "\n",
    "# Plot for 'credit_card' column\n",
    "axes[0].bar(counts_credit_card.index, counts_credit_card.values)\n",
    "axes[0].set_title('Credit Card')\n",
    "\n",
    "# Plot for 'credit_reporting' column\n",
    "axes[1].bar(counts_credit_reporting.index, counts_credit_reporting.values)\n",
    "axes[1].set_title('Credit Reporting')\n",
    "\n",
    "# Plot for 'debt_collection' column\n",
    "axes[2].bar(counts_debt_collection.index, counts_debt_collection.values)\n",
    "axes[2].set_title('Debt Collection')\n",
    "\n",
    "# Plot for 'mortgages_and_loans' column\n",
    "axes[3].bar(counts_mortgages_and_loans.index, counts_mortgages_and_loans.values)\n",
    "axes[3].set_title('Mortgages and Loans')\n",
    "\n",
    "# Plot for 'retail_banking' column\n",
    "axes[4].bar(counts_retail_banking.index, counts_retail_banking.values)\n",
    "axes[4].set_title('Retail Banking')\n",
    "\n",
    "plt.tight_layout()\n",
    "plt.show()"
   ]
  },
  {
   "cell_type": "code",
   "execution_count": 20,
   "id": "5eeb4d55",
   "metadata": {
    "colab": {
     "base_uri": "https://localhost:8080/",
     "height": 688
    },
    "id": "5eeb4d55",
    "outputId": "f3aa656c-6e76-476b-d653-a000664ce3e2"
   },
   "outputs": [
    {
     "data": {
      "image/png": "[encoded data removed]",
      "text/plain": [
       "<Figure size 1000x600 with 1 Axes>"
      ]
     },
     "metadata": {},
     "output_type": "display_data"
    }
   ],
   "source": [
    "import seaborn as sns\n",
    "import matplotlib.pyplot as plt\n",
    "\n",
    "df_melted = pd.melt(df, value_vars=[\"credit_card\", \"credit_reporting\", \"debt_collection\", \"mortgages_and_loans\", \"retail_banking\"])\n",
    "\n",
    "# Convert the melted values to \"True\" and \"False\"\n",
    "df_melted[\"value\"] = df_melted[\"value\"].astype(bool)\n",
    "\n",
    "# Create a countplot\n",
    "plt.figure(figsize=(10, 6))\n",
    "sns.set(style=\"whitegrid\")\n",
    "ax = sns.countplot(x=\"variable\", hue=\"value\", data=df_melted)\n",
    "\n",
    "# Add labels and title\n",
    "ax.set(xlabel=\"Categories\", ylabel=\"Count\", title=\"Count of True and False for Each Category\")\n",
    "plt.xticks(rotation=45)  # Rotate x-axis labels for better visibility\n",
    "plt.show()\n"
   ]
  },
  {
   "cell_type": "markdown",
   "id": "fae4fda5",
   "metadata": {
    "id": "fae4fda5"
   },
   "source": [
    "## Text preperation"
   ]
  },
  {
   "cell_type": "code",
   "execution_count": 24,
   "id": "aee35604",
   "metadata": {
    "colab": {
     "base_uri": "https://localhost:8080/",
     "height": 379
    },
    "id": "aee35604",
    "outputId": "25a0337a-cb53-40fa-c4b1-3eeff1ca4a2d"
   },
   "outputs": [
    {
     "data": {
      "text/html": [
       "<div>\n",
       "<style scoped>\n",
       "    .dataframe tbody tr th:only-of-type {\n",
       "        vertical-align: middle;\n",
       "    }\n",
       "\n",
       "    .dataframe tbody tr th {\n",
       "        vertical-align: top;\n",
       "    }\n",
       "\n",
       "    .dataframe thead th {\n",
       "        text-align: right;\n",
       "    }\n",
       "</style>\n",
       "<table border=\"1\" class=\"dataframe\">\n",
       "  <thead>\n",
       "    <tr style=\"text-align: right;\">\n",
       "      <th></th>\n",
       "      <th>Complaint_No</th>\n",
       "      <th>narrative</th>\n",
       "      <th>narrative_length</th>\n",
       "      <th>credit_card</th>\n",
       "      <th>credit_reporting</th>\n",
       "      <th>debt_collection</th>\n",
       "      <th>mortgages_and_loans</th>\n",
       "      <th>retail_banking</th>\n",
       "    </tr>\n",
       "  </thead>\n",
       "  <tbody>\n",
       "    <tr>\n",
       "      <th>0</th>\n",
       "      <td>0</td>\n",
       "      <td>purchase order day shipping amount receive pro...</td>\n",
       "      <td>1705</td>\n",
       "      <td>True</td>\n",
       "      <td>False</td>\n",
       "      <td>False</td>\n",
       "      <td>False</td>\n",
       "      <td>False</td>\n",
       "    </tr>\n",
       "    <tr>\n",
       "      <th>1</th>\n",
       "      <td>1</td>\n",
       "      <td>forwarded message date tue subject please inve...</td>\n",
       "      <td>904</td>\n",
       "      <td>True</td>\n",
       "      <td>False</td>\n",
       "      <td>False</td>\n",
       "      <td>False</td>\n",
       "      <td>False</td>\n",
       "    </tr>\n",
       "    <tr>\n",
       "      <th>2</th>\n",
       "      <td>2</td>\n",
       "      <td>forwarded message cc sent friday pdt subject f...</td>\n",
       "      <td>1230</td>\n",
       "      <td>False</td>\n",
       "      <td>False</td>\n",
       "      <td>False</td>\n",
       "      <td>False</td>\n",
       "      <td>True</td>\n",
       "    </tr>\n",
       "    <tr>\n",
       "      <th>3</th>\n",
       "      <td>3</td>\n",
       "      <td>payment history missing credit report speciali...</td>\n",
       "      <td>903</td>\n",
       "      <td>False</td>\n",
       "      <td>True</td>\n",
       "      <td>False</td>\n",
       "      <td>False</td>\n",
       "      <td>False</td>\n",
       "    </tr>\n",
       "    <tr>\n",
       "      <th>4</th>\n",
       "      <td>4</td>\n",
       "      <td>payment history missing credit report made mis...</td>\n",
       "      <td>851</td>\n",
       "      <td>False</td>\n",
       "      <td>True</td>\n",
       "      <td>False</td>\n",
       "      <td>False</td>\n",
       "      <td>False</td>\n",
       "    </tr>\n",
       "  </tbody>\n",
       "</table>\n",
       "</div>"
      ],
      "text/plain": [
       "   Complaint_No                                          narrative  \\\n",
       "0             0  purchase order day shipping amount receive pro...   \n",
       "1             1  forwarded message date tue subject please inve...   \n",
       "2             2  forwarded message cc sent friday pdt subject f...   \n",
       "3             3  payment history missing credit report speciali...   \n",
       "4             4  payment history missing credit report made mis...   \n",
       "\n",
       "   narrative_length  credit_card  credit_reporting  debt_collection  \\\n",
       "0              1705         True             False            False   \n",
       "1               904         True             False            False   \n",
       "2              1230        False             False            False   \n",
       "3               903        False              True            False   \n",
       "4               851        False              True            False   \n",
       "\n",
       "   mortgages_and_loans  retail_banking  \n",
       "0                False           False  \n",
       "1                False           False  \n",
       "2                False            True  \n",
       "3                False           False  \n",
       "4                False           False  "
      ]
     },
     "execution_count": 24,
     "metadata": {},
     "output_type": "execute_result"
    }
   ],
   "source": [
    "df[\"narrative\"]=df[\"narrative\"].str.lower()\n",
    "df.head()"
   ]
  },
  {
   "cell_type": "markdown",
   "id": "a0fb86b8",
   "metadata": {
    "id": "a0fb86b8"
   },
   "source": [
    "## 2- remove html tags"
   ]
  },
  {
   "cell_type": "code",
   "execution_count": 26,
   "id": "f945f58a",
   "metadata": {
    "id": "f945f58a"
   },
   "outputs": [],
   "source": [
    "from bs4 import BeautifulSoup\n",
    "\n",
    "## check if there is html tags\n",
    "\n",
    "def has_html_tags(text):\n",
    "    soup = BeautifulSoup(text, 'html.parser')\n",
    "    return bool(soup.find())\n",
    "\n",
    "df['has_html_tags'] = df['narrative'].apply(has_html_tags)"
   ]
  },
  {
   "cell_type": "code",
   "execution_count": 27,
   "id": "6df1467e",
   "metadata": {
    "colab": {
     "base_uri": "https://localhost:8080/",
     "height": 660
    },
    "id": "6df1467e",
    "outputId": "153cea86-ffb5-4992-d3f6-aca9d71700d5"
   },
   "outputs": [
    {
     "data": {
      "text/html": [
       "<div>\n",
       "<style scoped>\n",
       "    .dataframe tbody tr th:only-of-type {\n",
       "        vertical-align: middle;\n",
       "    }\n",
       "\n",
       "    .dataframe tbody tr th {\n",
       "        vertical-align: top;\n",
       "    }\n",
       "\n",
       "    .dataframe thead th {\n",
       "        text-align: right;\n",
       "    }\n",
       "</style>\n",
       "<table border=\"1\" class=\"dataframe\">\n",
       "  <thead>\n",
       "    <tr style=\"text-align: right;\">\n",
       "      <th></th>\n",
       "      <th>Complaint_No</th>\n",
       "      <th>narrative</th>\n",
       "      <th>narrative_length</th>\n",
       "      <th>credit_card</th>\n",
       "      <th>credit_reporting</th>\n",
       "      <th>debt_collection</th>\n",
       "      <th>mortgages_and_loans</th>\n",
       "      <th>retail_banking</th>\n",
       "      <th>has_html_tags</th>\n",
       "    </tr>\n",
       "  </thead>\n",
       "  <tbody>\n",
       "    <tr>\n",
       "      <th>0</th>\n",
       "      <td>0</td>\n",
       "      <td>purchase order day shipping amount receive pro...</td>\n",
       "      <td>1705</td>\n",
       "      <td>True</td>\n",
       "      <td>False</td>\n",
       "      <td>False</td>\n",
       "      <td>False</td>\n",
       "      <td>False</td>\n",
       "      <td>False</td>\n",
       "    </tr>\n",
       "    <tr>\n",
       "      <th>1</th>\n",
       "      <td>1</td>\n",
       "      <td>forwarded message date tue subject please inve...</td>\n",
       "      <td>904</td>\n",
       "      <td>True</td>\n",
       "      <td>False</td>\n",
       "      <td>False</td>\n",
       "      <td>False</td>\n",
       "      <td>False</td>\n",
       "      <td>False</td>\n",
       "    </tr>\n",
       "    <tr>\n",
       "      <th>2</th>\n",
       "      <td>2</td>\n",
       "      <td>forwarded message cc sent friday pdt subject f...</td>\n",
       "      <td>1230</td>\n",
       "      <td>False</td>\n",
       "      <td>False</td>\n",
       "      <td>False</td>\n",
       "      <td>False</td>\n",
       "      <td>True</td>\n",
       "      <td>False</td>\n",
       "    </tr>\n",
       "    <tr>\n",
       "      <th>3</th>\n",
       "      <td>3</td>\n",
       "      <td>payment history missing credit report speciali...</td>\n",
       "      <td>903</td>\n",
       "      <td>False</td>\n",
       "      <td>True</td>\n",
       "      <td>False</td>\n",
       "      <td>False</td>\n",
       "      <td>False</td>\n",
       "      <td>False</td>\n",
       "    </tr>\n",
       "    <tr>\n",
       "      <th>4</th>\n",
       "      <td>4</td>\n",
       "      <td>payment history missing credit report made mis...</td>\n",
       "      <td>851</td>\n",
       "      <td>False</td>\n",
       "      <td>True</td>\n",
       "      <td>False</td>\n",
       "      <td>False</td>\n",
       "      <td>False</td>\n",
       "      <td>False</td>\n",
       "    </tr>\n",
       "  </tbody>\n",
       "</table>\n",
       "</div>"
      ],
      "text/plain": [
       "   Complaint_No                                          narrative  \\\n",
       "0             0  purchase order day shipping amount receive pro...   \n",
       "1             1  forwarded message date tue subject please inve...   \n",
       "2             2  forwarded message cc sent friday pdt subject f...   \n",
       "3             3  payment history missing credit report speciali...   \n",
       "4             4  payment history missing credit report made mis...   \n",
       "\n",
       "   narrative_length  credit_card  credit_reporting  debt_collection  \\\n",
       "0              1705         True             False            False   \n",
       "1               904         True             False            False   \n",
       "2              1230        False             False            False   \n",
       "3               903        False              True            False   \n",
       "4               851        False              True            False   \n",
       "\n",
       "   mortgages_and_loans  retail_banking  has_html_tags  \n",
       "0                False           False          False  \n",
       "1                False           False          False  \n",
       "2                False            True          False  \n",
       "3                False           False          False  \n",
       "4                False           False          False  "
      ]
     },
     "execution_count": 27,
     "metadata": {},
     "output_type": "execute_result"
    }
   ],
   "source": [
    "df.head()"
   ]
  },
  {
   "cell_type": "code",
   "execution_count": 28,
   "id": "4ac607ce",
   "metadata": {
    "colab": {
     "base_uri": "https://localhost:8080/"
    },
    "id": "4ac607ce",
    "outputId": "fd6abe0d-6f81-42b6-caec-ccf138791ea1"
   },
   "outputs": [
    {
     "data": {
      "text/plain": [
       "0"
      ]
     },
     "execution_count": 28,
     "metadata": {},
     "output_type": "execute_result"
    }
   ],
   "source": [
    "count_true = df['has_html_tags'].sum()\n",
    "count_true"
   ]
  },
  {
   "cell_type": "code",
   "execution_count": 29,
   "id": "5e2570ca",
   "metadata": {
    "colab": {
     "base_uri": "https://localhost:8080/",
     "height": 666
    },
    "id": "5e2570ca",
    "outputId": "0641c751-1fae-4efc-b7ab-376d5d48723d"
   },
   "outputs": [
    {
     "data": {
      "text/html": [
       "<div>\n",
       "<style scoped>\n",
       "    .dataframe tbody tr th:only-of-type {\n",
       "        vertical-align: middle;\n",
       "    }\n",
       "\n",
       "    .dataframe tbody tr th {\n",
       "        vertical-align: top;\n",
       "    }\n",
       "\n",
       "    .dataframe thead th {\n",
       "        text-align: right;\n",
       "    }\n",
       "</style>\n",
       "<table border=\"1\" class=\"dataframe\">\n",
       "  <thead>\n",
       "    <tr style=\"text-align: right;\">\n",
       "      <th></th>\n",
       "      <th>Complaint_No</th>\n",
       "      <th>narrative</th>\n",
       "      <th>narrative_length</th>\n",
       "      <th>credit_card</th>\n",
       "      <th>credit_reporting</th>\n",
       "      <th>debt_collection</th>\n",
       "      <th>mortgages_and_loans</th>\n",
       "      <th>retail_banking</th>\n",
       "    </tr>\n",
       "  </thead>\n",
       "  <tbody>\n",
       "    <tr>\n",
       "      <th>0</th>\n",
       "      <td>0</td>\n",
       "      <td>purchase order day shipping amount receive pro...</td>\n",
       "      <td>1705</td>\n",
       "      <td>True</td>\n",
       "      <td>False</td>\n",
       "      <td>False</td>\n",
       "      <td>False</td>\n",
       "      <td>False</td>\n",
       "    </tr>\n",
       "    <tr>\n",
       "      <th>1</th>\n",
       "      <td>1</td>\n",
       "      <td>forwarded message date tue subject please inve...</td>\n",
       "      <td>904</td>\n",
       "      <td>True</td>\n",
       "      <td>False</td>\n",
       "      <td>False</td>\n",
       "      <td>False</td>\n",
       "      <td>False</td>\n",
       "    </tr>\n",
       "    <tr>\n",
       "      <th>2</th>\n",
       "      <td>2</td>\n",
       "      <td>forwarded message cc sent friday pdt subject f...</td>\n",
       "      <td>1230</td>\n",
       "      <td>False</td>\n",
       "      <td>False</td>\n",
       "      <td>False</td>\n",
       "      <td>False</td>\n",
       "      <td>True</td>\n",
       "    </tr>\n",
       "    <tr>\n",
       "      <th>3</th>\n",
       "      <td>3</td>\n",
       "      <td>payment history missing credit report speciali...</td>\n",
       "      <td>903</td>\n",
       "      <td>False</td>\n",
       "      <td>True</td>\n",
       "      <td>False</td>\n",
       "      <td>False</td>\n",
       "      <td>False</td>\n",
       "    </tr>\n",
       "    <tr>\n",
       "      <th>4</th>\n",
       "      <td>4</td>\n",
       "      <td>payment history missing credit report made mis...</td>\n",
       "      <td>851</td>\n",
       "      <td>False</td>\n",
       "      <td>True</td>\n",
       "      <td>False</td>\n",
       "      <td>False</td>\n",
       "      <td>False</td>\n",
       "    </tr>\n",
       "    <tr>\n",
       "      <th>...</th>\n",
       "      <td>...</td>\n",
       "      <td>...</td>\n",
       "      <td>...</td>\n",
       "      <td>...</td>\n",
       "      <td>...</td>\n",
       "      <td>...</td>\n",
       "      <td>...</td>\n",
       "      <td>...</td>\n",
       "    </tr>\n",
       "    <tr>\n",
       "      <th>162416</th>\n",
       "      <td>162416</td>\n",
       "      <td>name</td>\n",
       "      <td>4</td>\n",
       "      <td>False</td>\n",
       "      <td>False</td>\n",
       "      <td>True</td>\n",
       "      <td>False</td>\n",
       "      <td>False</td>\n",
       "    </tr>\n",
       "    <tr>\n",
       "      <th>162417</th>\n",
       "      <td>162417</td>\n",
       "      <td>name</td>\n",
       "      <td>4</td>\n",
       "      <td>True</td>\n",
       "      <td>False</td>\n",
       "      <td>False</td>\n",
       "      <td>False</td>\n",
       "      <td>False</td>\n",
       "    </tr>\n",
       "    <tr>\n",
       "      <th>162418</th>\n",
       "      <td>162418</td>\n",
       "      <td>name</td>\n",
       "      <td>4</td>\n",
       "      <td>False</td>\n",
       "      <td>False</td>\n",
       "      <td>True</td>\n",
       "      <td>False</td>\n",
       "      <td>False</td>\n",
       "    </tr>\n",
       "    <tr>\n",
       "      <th>162419</th>\n",
       "      <td>162419</td>\n",
       "      <td>name</td>\n",
       "      <td>4</td>\n",
       "      <td>True</td>\n",
       "      <td>False</td>\n",
       "      <td>False</td>\n",
       "      <td>False</td>\n",
       "      <td>False</td>\n",
       "    </tr>\n",
       "    <tr>\n",
       "      <th>162420</th>\n",
       "      <td>162420</td>\n",
       "      <td>name</td>\n",
       "      <td>4</td>\n",
       "      <td>False</td>\n",
       "      <td>True</td>\n",
       "      <td>False</td>\n",
       "      <td>False</td>\n",
       "      <td>False</td>\n",
       "    </tr>\n",
       "  </tbody>\n",
       "</table>\n",
       "<p>162411 rows × 8 columns</p>\n",
       "</div>"
      ],
      "text/plain": [
       "        Complaint_No                                          narrative  \\\n",
       "0                  0  purchase order day shipping amount receive pro...   \n",
       "1                  1  forwarded message date tue subject please inve...   \n",
       "2                  2  forwarded message cc sent friday pdt subject f...   \n",
       "3                  3  payment history missing credit report speciali...   \n",
       "4                  4  payment history missing credit report made mis...   \n",
       "...              ...                                                ...   \n",
       "162416        162416                                               name   \n",
       "162417        162417                                               name   \n",
       "162418        162418                                               name   \n",
       "162419        162419                                               name   \n",
       "162420        162420                                               name   \n",
       "\n",
       "        narrative_length  credit_card  credit_reporting  debt_collection  \\\n",
       "0                   1705         True             False            False   \n",
       "1                    904         True             False            False   \n",
       "2                   1230        False             False            False   \n",
       "3                    903        False              True            False   \n",
       "4                    851        False              True            False   \n",
       "...                  ...          ...               ...              ...   \n",
       "162416                 4        False             False             True   \n",
       "162417                 4         True             False            False   \n",
       "162418                 4        False             False             True   \n",
       "162419                 4         True             False            False   \n",
       "162420                 4        False              True            False   \n",
       "\n",
       "        mortgages_and_loans  retail_banking  \n",
       "0                     False           False  \n",
       "1                     False           False  \n",
       "2                     False            True  \n",
       "3                     False           False  \n",
       "4                     False           False  \n",
       "...                     ...             ...  \n",
       "162416                False           False  \n",
       "162417                False           False  \n",
       "162418                False           False  \n",
       "162419                False           False  \n",
       "162420                False           False  \n",
       "\n",
       "[162411 rows x 8 columns]"
      ]
     },
     "execution_count": 29,
     "metadata": {},
     "output_type": "execute_result"
    }
   ],
   "source": [
    "df = df.drop('has_html_tags', axis=1)\n",
    "df"
   ]
  },
  {
   "cell_type": "markdown",
   "id": "f9c81a6c",
   "metadata": {
    "id": "f9c81a6c"
   },
   "source": [
    "## 3- remove emojis"
   ]
  },
  {
   "cell_type": "code",
   "execution_count": 33,
   "id": "03a54c39",
   "metadata": {
    "colab": {
     "base_uri": "https://localhost:8080/"
    },
    "id": "03a54c39",
    "outputId": "de0a543c-dcfe-4b64-960f-fb68057d836e"
   },
   "outputs": [
    {
     "data": {
      "text/plain": [
       "0         False\n",
       "1         False\n",
       "2         False\n",
       "3         False\n",
       "4         False\n",
       "          ...  \n",
       "162416    False\n",
       "162417    False\n",
       "162418    False\n",
       "162419    False\n",
       "162420    False\n",
       "Name: narrative, Length: 162411, dtype: bool"
      ]
     },
     "execution_count": 33,
     "metadata": {},
     "output_type": "execute_result"
    }
   ],
   "source": [
    "import regex\n",
    "import pandas as pd\n",
    "\n",
    "# Function to check if a string contains emojis using a Unicode character property\n",
    "def has_emoji(text):\n",
    "    emoji_pattern = regex.compile(r'\\p{Emoji}', flags=regex.UNICODE)\n",
    "    return bool(emoji_pattern.search(text))\n",
    "\n",
    "\n",
    "has_emojis =  df['narrative'].apply(has_emoji)\n",
    "\n",
    "has_emojis"
   ]
  },
  {
   "cell_type": "code",
   "execution_count": 34,
   "id": "2ab9d9eb",
   "metadata": {
    "colab": {
     "base_uri": "https://localhost:8080/"
    },
    "id": "2ab9d9eb",
    "outputId": "2a3b625b-6a80-448c-9909-382eaa923906"
   },
   "outputs": [
    {
     "data": {
      "text/plain": [
       "0"
      ]
     },
     "execution_count": 34,
     "metadata": {},
     "output_type": "execute_result"
    }
   ],
   "source": [
    "has_emojis.sum()"
   ]
  },
  {
   "cell_type": "markdown",
   "id": "27bdfe29",
   "metadata": {
    "id": "27bdfe29"
   },
   "source": [
    "## 4- remove URLs"
   ]
  },
  {
   "cell_type": "code",
   "execution_count": 35,
   "id": "c2c76310",
   "metadata": {
    "colab": {
     "base_uri": "https://localhost:8080/",
     "height": 379
    },
    "id": "c2c76310",
    "outputId": "7d1c6c8b-4b59-4641-c8fa-2d5f9f1a6ca1"
   },
   "outputs": [
    {
     "data": {
      "text/html": [
       "<div>\n",
       "<style scoped>\n",
       "    .dataframe tbody tr th:only-of-type {\n",
       "        vertical-align: middle;\n",
       "    }\n",
       "\n",
       "    .dataframe tbody tr th {\n",
       "        vertical-align: top;\n",
       "    }\n",
       "\n",
       "    .dataframe thead th {\n",
       "        text-align: right;\n",
       "    }\n",
       "</style>\n",
       "<table border=\"1\" class=\"dataframe\">\n",
       "  <thead>\n",
       "    <tr style=\"text-align: right;\">\n",
       "      <th></th>\n",
       "      <th>Complaint_No</th>\n",
       "      <th>narrative</th>\n",
       "      <th>narrative_length</th>\n",
       "      <th>credit_card</th>\n",
       "      <th>credit_reporting</th>\n",
       "      <th>debt_collection</th>\n",
       "      <th>mortgages_and_loans</th>\n",
       "      <th>retail_banking</th>\n",
       "    </tr>\n",
       "  </thead>\n",
       "  <tbody>\n",
       "    <tr>\n",
       "      <th>0</th>\n",
       "      <td>0</td>\n",
       "      <td>purchase order day shipping amount receive pro...</td>\n",
       "      <td>1705</td>\n",
       "      <td>True</td>\n",
       "      <td>False</td>\n",
       "      <td>False</td>\n",
       "      <td>False</td>\n",
       "      <td>False</td>\n",
       "    </tr>\n",
       "    <tr>\n",
       "      <th>1</th>\n",
       "      <td>1</td>\n",
       "      <td>forwarded message date tue subject please inve...</td>\n",
       "      <td>904</td>\n",
       "      <td>True</td>\n",
       "      <td>False</td>\n",
       "      <td>False</td>\n",
       "      <td>False</td>\n",
       "      <td>False</td>\n",
       "    </tr>\n",
       "    <tr>\n",
       "      <th>2</th>\n",
       "      <td>2</td>\n",
       "      <td>forwarded message cc sent friday pdt subject f...</td>\n",
       "      <td>1230</td>\n",
       "      <td>False</td>\n",
       "      <td>False</td>\n",
       "      <td>False</td>\n",
       "      <td>False</td>\n",
       "      <td>True</td>\n",
       "    </tr>\n",
       "    <tr>\n",
       "      <th>3</th>\n",
       "      <td>3</td>\n",
       "      <td>payment history missing credit report speciali...</td>\n",
       "      <td>903</td>\n",
       "      <td>False</td>\n",
       "      <td>True</td>\n",
       "      <td>False</td>\n",
       "      <td>False</td>\n",
       "      <td>False</td>\n",
       "    </tr>\n",
       "    <tr>\n",
       "      <th>4</th>\n",
       "      <td>4</td>\n",
       "      <td>payment history missing credit report made mis...</td>\n",
       "      <td>851</td>\n",
       "      <td>False</td>\n",
       "      <td>True</td>\n",
       "      <td>False</td>\n",
       "      <td>False</td>\n",
       "      <td>False</td>\n",
       "    </tr>\n",
       "  </tbody>\n",
       "</table>\n",
       "</div>"
      ],
      "text/plain": [
       "   Complaint_No                                          narrative  \\\n",
       "0             0  purchase order day shipping amount receive pro...   \n",
       "1             1  forwarded message date tue subject please inve...   \n",
       "2             2  forwarded message cc sent friday pdt subject f...   \n",
       "3             3  payment history missing credit report speciali...   \n",
       "4             4  payment history missing credit report made mis...   \n",
       "\n",
       "   narrative_length  credit_card  credit_reporting  debt_collection  \\\n",
       "0              1705         True             False            False   \n",
       "1               904         True             False            False   \n",
       "2              1230        False             False            False   \n",
       "3               903        False              True            False   \n",
       "4               851        False              True            False   \n",
       "\n",
       "   mortgages_and_loans  retail_banking  \n",
       "0                False           False  \n",
       "1                False           False  \n",
       "2                False            True  \n",
       "3                False           False  \n",
       "4                False           False  "
      ]
     },
     "execution_count": 35,
     "metadata": {},
     "output_type": "execute_result"
    }
   ],
   "source": [
    "import re\n",
    "def remove_url(text):\n",
    "    pattern=re.compile(r'https?://\\S+|www\\.S+')\n",
    "    return pattern.sub(r'',text)\n",
    "df[\"narrative\"]=df[\"narrative\"].apply(remove_url)\n",
    "\n",
    "df.head()"
   ]
  },
  {
   "cell_type": "markdown",
   "id": "6951cc81",
   "metadata": {
    "id": "6951cc81"
   },
   "source": [
    "## 5- Remove Special Characters"
   ]
  },
  {
   "cell_type": "code",
   "execution_count": 36,
   "id": "6cddd249",
   "metadata": {
    "colab": {
     "base_uri": "https://localhost:8080/",
     "height": 36
    },
    "id": "6cddd249",
    "outputId": "2f41055e-2a02-4586-9228-b0bccce74b92"
   },
   "outputs": [
    {
     "data": {
      "text/plain": [
       "'!\"#$%&\\'()*+,-./:;<=>?@[\\\\]^_`{|}~'"
      ]
     },
     "execution_count": 36,
     "metadata": {},
     "output_type": "execute_result"
    }
   ],
   "source": [
    "import string\n",
    "string.punctuation"
   ]
  },
  {
   "cell_type": "code",
   "execution_count": 37,
   "id": "be50d888",
   "metadata": {
    "id": "be50d888"
   },
   "outputs": [],
   "source": [
    "punc=string.punctuation"
   ]
  },
  {
   "cell_type": "code",
   "execution_count": 38,
   "id": "5aa41a97",
   "metadata": {
    "colab": {
     "base_uri": "https://localhost:8080/",
     "height": 379
    },
    "id": "5aa41a97",
    "outputId": "8d77a8e8-705d-4e49-e7b9-69ceab7387c0"
   },
   "outputs": [
    {
     "data": {
      "text/html": [
       "<div>\n",
       "<style scoped>\n",
       "    .dataframe tbody tr th:only-of-type {\n",
       "        vertical-align: middle;\n",
       "    }\n",
       "\n",
       "    .dataframe tbody tr th {\n",
       "        vertical-align: top;\n",
       "    }\n",
       "\n",
       "    .dataframe thead th {\n",
       "        text-align: right;\n",
       "    }\n",
       "</style>\n",
       "<table border=\"1\" class=\"dataframe\">\n",
       "  <thead>\n",
       "    <tr style=\"text-align: right;\">\n",
       "      <th></th>\n",
       "      <th>Complaint_No</th>\n",
       "      <th>narrative</th>\n",
       "      <th>narrative_length</th>\n",
       "      <th>credit_card</th>\n",
       "      <th>credit_reporting</th>\n",
       "      <th>debt_collection</th>\n",
       "      <th>mortgages_and_loans</th>\n",
       "      <th>retail_banking</th>\n",
       "    </tr>\n",
       "  </thead>\n",
       "  <tbody>\n",
       "    <tr>\n",
       "      <th>0</th>\n",
       "      <td>0</td>\n",
       "      <td>purchase order day shipping amount receive pro...</td>\n",
       "      <td>1705</td>\n",
       "      <td>True</td>\n",
       "      <td>False</td>\n",
       "      <td>False</td>\n",
       "      <td>False</td>\n",
       "      <td>False</td>\n",
       "    </tr>\n",
       "    <tr>\n",
       "      <th>1</th>\n",
       "      <td>1</td>\n",
       "      <td>forwarded message date tue subject please inve...</td>\n",
       "      <td>904</td>\n",
       "      <td>True</td>\n",
       "      <td>False</td>\n",
       "      <td>False</td>\n",
       "      <td>False</td>\n",
       "      <td>False</td>\n",
       "    </tr>\n",
       "    <tr>\n",
       "      <th>2</th>\n",
       "      <td>2</td>\n",
       "      <td>forwarded message cc sent friday pdt subject f...</td>\n",
       "      <td>1230</td>\n",
       "      <td>False</td>\n",
       "      <td>False</td>\n",
       "      <td>False</td>\n",
       "      <td>False</td>\n",
       "      <td>True</td>\n",
       "    </tr>\n",
       "    <tr>\n",
       "      <th>3</th>\n",
       "      <td>3</td>\n",
       "      <td>payment history missing credit report speciali...</td>\n",
       "      <td>903</td>\n",
       "      <td>False</td>\n",
       "      <td>True</td>\n",
       "      <td>False</td>\n",
       "      <td>False</td>\n",
       "      <td>False</td>\n",
       "    </tr>\n",
       "    <tr>\n",
       "      <th>4</th>\n",
       "      <td>4</td>\n",
       "      <td>payment history missing credit report made mis...</td>\n",
       "      <td>851</td>\n",
       "      <td>False</td>\n",
       "      <td>True</td>\n",
       "      <td>False</td>\n",
       "      <td>False</td>\n",
       "      <td>False</td>\n",
       "    </tr>\n",
       "  </tbody>\n",
       "</table>\n",
       "</div>"
      ],
      "text/plain": [
       "   Complaint_No                                          narrative  \\\n",
       "0             0  purchase order day shipping amount receive pro...   \n",
       "1             1  forwarded message date tue subject please inve...   \n",
       "2             2  forwarded message cc sent friday pdt subject f...   \n",
       "3             3  payment history missing credit report speciali...   \n",
       "4             4  payment history missing credit report made mis...   \n",
       "\n",
       "   narrative_length  credit_card  credit_reporting  debt_collection  \\\n",
       "0              1705         True             False            False   \n",
       "1               904         True             False            False   \n",
       "2              1230        False             False            False   \n",
       "3               903        False              True            False   \n",
       "4               851        False              True            False   \n",
       "\n",
       "   mortgages_and_loans  retail_banking  \n",
       "0                False           False  \n",
       "1                False           False  \n",
       "2                False            True  \n",
       "3                False           False  \n",
       "4                False           False  "
      ]
     },
     "execution_count": 38,
     "metadata": {},
     "output_type": "execute_result"
    }
   ],
   "source": [
    "def remove_punc(text):\n",
    "    return text.translate(str.maketrans('', '',punc))\n",
    "\n",
    "df[\"narrative\"]=df[\"narrative\"].apply(remove_punc)\n",
    "df.head()"
   ]
  },
  {
   "cell_type": "markdown",
   "id": "53298491",
   "metadata": {
    "id": "53298491"
   },
   "source": [
    "## 6- remove stop words (I, Me, My, Myself, We, Our,.....)"
   ]
  },
  {
   "cell_type": "code",
   "execution_count": 39,
   "id": "7a5bb549",
   "metadata": {
    "id": "7a5bb549"
   },
   "outputs": [],
   "source": [
    "from nltk.corpus import stopwords"
   ]
  },
  {
   "cell_type": "code",
   "execution_count": 40,
   "id": "3cedf486",
   "metadata": {
    "colab": {
     "base_uri": "https://localhost:8080/"
    },
    "id": "3cedf486",
    "outputId": "6cefa11b-916d-4544-d41b-0239406df1cd"
   },
   "outputs": [
    {
     "name": "stderr",
     "output_type": "stream",
     "text": [
      "[nltk_data] Downloading package stopwords to C:\\Users\\Rupam\n",
      "[nltk_data]     Patil\\AppData\\Roaming\\nltk_data...\n",
      "[nltk_data]   Package stopwords is already up-to-date!\n"
     ]
    }
   ],
   "source": [
    "import nltk\n",
    "nltk.download('stopwords')\n",
    "stop_words=set(stopwords.words('english'))"
   ]
  },
  {
   "cell_type": "code",
   "execution_count": 41,
   "id": "b20009a0",
   "metadata": {
    "colab": {
     "base_uri": "https://localhost:8080/",
     "height": 379
    },
    "id": "b20009a0",
    "outputId": "2b64563c-1c2d-496b-c353-bff3b265ce99"
   },
   "outputs": [
    {
     "data": {
      "text/html": [
       "<div>\n",
       "<style scoped>\n",
       "    .dataframe tbody tr th:only-of-type {\n",
       "        vertical-align: middle;\n",
       "    }\n",
       "\n",
       "    .dataframe tbody tr th {\n",
       "        vertical-align: top;\n",
       "    }\n",
       "\n",
       "    .dataframe thead th {\n",
       "        text-align: right;\n",
       "    }\n",
       "</style>\n",
       "<table border=\"1\" class=\"dataframe\">\n",
       "  <thead>\n",
       "    <tr style=\"text-align: right;\">\n",
       "      <th></th>\n",
       "      <th>Complaint_No</th>\n",
       "      <th>narrative</th>\n",
       "      <th>narrative_length</th>\n",
       "      <th>credit_card</th>\n",
       "      <th>credit_reporting</th>\n",
       "      <th>debt_collection</th>\n",
       "      <th>mortgages_and_loans</th>\n",
       "      <th>retail_banking</th>\n",
       "    </tr>\n",
       "  </thead>\n",
       "  <tbody>\n",
       "    <tr>\n",
       "      <th>0</th>\n",
       "      <td>0</td>\n",
       "      <td>purchase order day shipping amount receive pro...</td>\n",
       "      <td>1705</td>\n",
       "      <td>True</td>\n",
       "      <td>False</td>\n",
       "      <td>False</td>\n",
       "      <td>False</td>\n",
       "      <td>False</td>\n",
       "    </tr>\n",
       "    <tr>\n",
       "      <th>1</th>\n",
       "      <td>1</td>\n",
       "      <td>forwarded message date tue subject please inve...</td>\n",
       "      <td>904</td>\n",
       "      <td>True</td>\n",
       "      <td>False</td>\n",
       "      <td>False</td>\n",
       "      <td>False</td>\n",
       "      <td>False</td>\n",
       "    </tr>\n",
       "    <tr>\n",
       "      <th>2</th>\n",
       "      <td>2</td>\n",
       "      <td>forwarded message cc sent friday pdt subject f...</td>\n",
       "      <td>1230</td>\n",
       "      <td>False</td>\n",
       "      <td>False</td>\n",
       "      <td>False</td>\n",
       "      <td>False</td>\n",
       "      <td>True</td>\n",
       "    </tr>\n",
       "    <tr>\n",
       "      <th>3</th>\n",
       "      <td>3</td>\n",
       "      <td>payment history missing credit report speciali...</td>\n",
       "      <td>903</td>\n",
       "      <td>False</td>\n",
       "      <td>True</td>\n",
       "      <td>False</td>\n",
       "      <td>False</td>\n",
       "      <td>False</td>\n",
       "    </tr>\n",
       "    <tr>\n",
       "      <th>4</th>\n",
       "      <td>4</td>\n",
       "      <td>payment history missing credit report made mis...</td>\n",
       "      <td>851</td>\n",
       "      <td>False</td>\n",
       "      <td>True</td>\n",
       "      <td>False</td>\n",
       "      <td>False</td>\n",
       "      <td>False</td>\n",
       "    </tr>\n",
       "  </tbody>\n",
       "</table>\n",
       "</div>"
      ],
      "text/plain": [
       "   Complaint_No                                          narrative  \\\n",
       "0             0  purchase order day shipping amount receive pro...   \n",
       "1             1  forwarded message date tue subject please inve...   \n",
       "2             2  forwarded message cc sent friday pdt subject f...   \n",
       "3             3  payment history missing credit report speciali...   \n",
       "4             4  payment history missing credit report made mis...   \n",
       "\n",
       "   narrative_length  credit_card  credit_reporting  debt_collection  \\\n",
       "0              1705         True             False            False   \n",
       "1               904         True             False            False   \n",
       "2              1230        False             False            False   \n",
       "3               903        False              True            False   \n",
       "4               851        False              True            False   \n",
       "\n",
       "   mortgages_and_loans  retail_banking  \n",
       "0                False           False  \n",
       "1                False           False  \n",
       "2                False            True  \n",
       "3                False           False  \n",
       "4                False           False  "
      ]
     },
     "execution_count": 41,
     "metadata": {},
     "output_type": "execute_result"
    }
   ],
   "source": [
    "def remove_stopwords(text):\n",
    "    words = text.split()\n",
    "    filtered_words = [word for word in words if word not in stop_words]\n",
    "    return \" \".join(filtered_words)\n",
    "\n",
    "df[\"narrative\"]=df[\"narrative\"].apply(lambda x: remove_stopwords(x))\n",
    "\n",
    "df.head()"
   ]
  },
  {
   "cell_type": "code",
   "execution_count": 42,
   "id": "d5c85a1d",
   "metadata": {
    "colab": {
     "base_uri": "https://localhost:8080/",
     "height": 666
    },
    "id": "d5c85a1d",
    "outputId": "4dba8bbf-a8cf-4374-8054-f1935535919e"
   },
   "outputs": [
    {
     "data": {
      "text/html": [
       "<div>\n",
       "<style scoped>\n",
       "    .dataframe tbody tr th:only-of-type {\n",
       "        vertical-align: middle;\n",
       "    }\n",
       "\n",
       "    .dataframe tbody tr th {\n",
       "        vertical-align: top;\n",
       "    }\n",
       "\n",
       "    .dataframe thead th {\n",
       "        text-align: right;\n",
       "    }\n",
       "</style>\n",
       "<table border=\"1\" class=\"dataframe\">\n",
       "  <thead>\n",
       "    <tr style=\"text-align: right;\">\n",
       "      <th></th>\n",
       "      <th>Complaint_No</th>\n",
       "      <th>narrative</th>\n",
       "      <th>narrative_length</th>\n",
       "      <th>credit_card</th>\n",
       "      <th>credit_reporting</th>\n",
       "      <th>debt_collection</th>\n",
       "      <th>mortgages_and_loans</th>\n",
       "      <th>retail_banking</th>\n",
       "    </tr>\n",
       "  </thead>\n",
       "  <tbody>\n",
       "    <tr>\n",
       "      <th>0</th>\n",
       "      <td>0</td>\n",
       "      <td>purchase order day shipping amount receive pro...</td>\n",
       "      <td>1705</td>\n",
       "      <td>True</td>\n",
       "      <td>False</td>\n",
       "      <td>False</td>\n",
       "      <td>False</td>\n",
       "      <td>False</td>\n",
       "    </tr>\n",
       "    <tr>\n",
       "      <th>1</th>\n",
       "      <td>1</td>\n",
       "      <td>forwarded message date tue subject please inve...</td>\n",
       "      <td>904</td>\n",
       "      <td>True</td>\n",
       "      <td>False</td>\n",
       "      <td>False</td>\n",
       "      <td>False</td>\n",
       "      <td>False</td>\n",
       "    </tr>\n",
       "    <tr>\n",
       "      <th>2</th>\n",
       "      <td>2</td>\n",
       "      <td>forwarded message cc sent friday pdt subject f...</td>\n",
       "      <td>1230</td>\n",
       "      <td>False</td>\n",
       "      <td>False</td>\n",
       "      <td>False</td>\n",
       "      <td>False</td>\n",
       "      <td>True</td>\n",
       "    </tr>\n",
       "    <tr>\n",
       "      <th>3</th>\n",
       "      <td>3</td>\n",
       "      <td>payment history missing credit report speciali...</td>\n",
       "      <td>903</td>\n",
       "      <td>False</td>\n",
       "      <td>True</td>\n",
       "      <td>False</td>\n",
       "      <td>False</td>\n",
       "      <td>False</td>\n",
       "    </tr>\n",
       "    <tr>\n",
       "      <th>4</th>\n",
       "      <td>4</td>\n",
       "      <td>payment history missing credit report made mis...</td>\n",
       "      <td>851</td>\n",
       "      <td>False</td>\n",
       "      <td>True</td>\n",
       "      <td>False</td>\n",
       "      <td>False</td>\n",
       "      <td>False</td>\n",
       "    </tr>\n",
       "    <tr>\n",
       "      <th>...</th>\n",
       "      <td>...</td>\n",
       "      <td>...</td>\n",
       "      <td>...</td>\n",
       "      <td>...</td>\n",
       "      <td>...</td>\n",
       "      <td>...</td>\n",
       "      <td>...</td>\n",
       "      <td>...</td>\n",
       "    </tr>\n",
       "    <tr>\n",
       "      <th>162416</th>\n",
       "      <td>162416</td>\n",
       "      <td>name</td>\n",
       "      <td>4</td>\n",
       "      <td>False</td>\n",
       "      <td>False</td>\n",
       "      <td>True</td>\n",
       "      <td>False</td>\n",
       "      <td>False</td>\n",
       "    </tr>\n",
       "    <tr>\n",
       "      <th>162417</th>\n",
       "      <td>162417</td>\n",
       "      <td>name</td>\n",
       "      <td>4</td>\n",
       "      <td>True</td>\n",
       "      <td>False</td>\n",
       "      <td>False</td>\n",
       "      <td>False</td>\n",
       "      <td>False</td>\n",
       "    </tr>\n",
       "    <tr>\n",
       "      <th>162418</th>\n",
       "      <td>162418</td>\n",
       "      <td>name</td>\n",
       "      <td>4</td>\n",
       "      <td>False</td>\n",
       "      <td>False</td>\n",
       "      <td>True</td>\n",
       "      <td>False</td>\n",
       "      <td>False</td>\n",
       "    </tr>\n",
       "    <tr>\n",
       "      <th>162419</th>\n",
       "      <td>162419</td>\n",
       "      <td>name</td>\n",
       "      <td>4</td>\n",
       "      <td>True</td>\n",
       "      <td>False</td>\n",
       "      <td>False</td>\n",
       "      <td>False</td>\n",
       "      <td>False</td>\n",
       "    </tr>\n",
       "    <tr>\n",
       "      <th>162420</th>\n",
       "      <td>162420</td>\n",
       "      <td>name</td>\n",
       "      <td>4</td>\n",
       "      <td>False</td>\n",
       "      <td>True</td>\n",
       "      <td>False</td>\n",
       "      <td>False</td>\n",
       "      <td>False</td>\n",
       "    </tr>\n",
       "  </tbody>\n",
       "</table>\n",
       "<p>162411 rows × 8 columns</p>\n",
       "</div>"
      ],
      "text/plain": [
       "        Complaint_No                                          narrative  \\\n",
       "0                  0  purchase order day shipping amount receive pro...   \n",
       "1                  1  forwarded message date tue subject please inve...   \n",
       "2                  2  forwarded message cc sent friday pdt subject f...   \n",
       "3                  3  payment history missing credit report speciali...   \n",
       "4                  4  payment history missing credit report made mis...   \n",
       "...              ...                                                ...   \n",
       "162416        162416                                               name   \n",
       "162417        162417                                               name   \n",
       "162418        162418                                               name   \n",
       "162419        162419                                               name   \n",
       "162420        162420                                               name   \n",
       "\n",
       "        narrative_length  credit_card  credit_reporting  debt_collection  \\\n",
       "0                   1705         True             False            False   \n",
       "1                    904         True             False            False   \n",
       "2                   1230        False             False            False   \n",
       "3                    903        False              True            False   \n",
       "4                    851        False              True            False   \n",
       "...                  ...          ...               ...              ...   \n",
       "162416                 4        False             False             True   \n",
       "162417                 4         True             False            False   \n",
       "162418                 4        False             False             True   \n",
       "162419                 4         True             False            False   \n",
       "162420                 4        False              True            False   \n",
       "\n",
       "        mortgages_and_loans  retail_banking  \n",
       "0                     False           False  \n",
       "1                     False           False  \n",
       "2                     False            True  \n",
       "3                     False           False  \n",
       "4                     False           False  \n",
       "...                     ...             ...  \n",
       "162416                False           False  \n",
       "162417                False           False  \n",
       "162418                False           False  \n",
       "162419                False           False  \n",
       "162420                False           False  \n",
       "\n",
       "[162411 rows x 8 columns]"
      ]
     },
     "execution_count": 42,
     "metadata": {},
     "output_type": "execute_result"
    }
   ],
   "source": [
    "df"
   ]
  },
  {
   "cell_type": "markdown",
   "id": "027ff623",
   "metadata": {
    "id": "027ff623"
   },
   "source": [
    "## 7- Tokenize"
   ]
  },
  {
   "cell_type": "code",
   "execution_count": 43,
   "id": "fc7028d6",
   "metadata": {
    "colab": {
     "base_uri": "https://localhost:8080/",
     "height": 696
    },
    "id": "fc7028d6",
    "outputId": "d82d2a81-85e2-46ac-a9ed-d6ec487bd219"
   },
   "outputs": [
    {
     "name": "stderr",
     "output_type": "stream",
     "text": [
      "[nltk_data] Downloading package punkt to C:\\Users\\Rupam\n",
      "[nltk_data]     Patil\\AppData\\Roaming\\nltk_data...\n",
      "[nltk_data]   Package punkt is already up-to-date!\n"
     ]
    },
    {
     "data": {
      "text/html": [
       "<div>\n",
       "<style scoped>\n",
       "    .dataframe tbody tr th:only-of-type {\n",
       "        vertical-align: middle;\n",
       "    }\n",
       "\n",
       "    .dataframe tbody tr th {\n",
       "        vertical-align: top;\n",
       "    }\n",
       "\n",
       "    .dataframe thead th {\n",
       "        text-align: right;\n",
       "    }\n",
       "</style>\n",
       "<table border=\"1\" class=\"dataframe\">\n",
       "  <thead>\n",
       "    <tr style=\"text-align: right;\">\n",
       "      <th></th>\n",
       "      <th>Complaint_No</th>\n",
       "      <th>narrative</th>\n",
       "      <th>narrative_length</th>\n",
       "      <th>credit_card</th>\n",
       "      <th>credit_reporting</th>\n",
       "      <th>debt_collection</th>\n",
       "      <th>mortgages_and_loans</th>\n",
       "      <th>retail_banking</th>\n",
       "      <th>Complaint_tokenized_text</th>\n",
       "    </tr>\n",
       "  </thead>\n",
       "  <tbody>\n",
       "    <tr>\n",
       "      <th>0</th>\n",
       "      <td>0</td>\n",
       "      <td>purchase order day shipping amount receive pro...</td>\n",
       "      <td>1705</td>\n",
       "      <td>True</td>\n",
       "      <td>False</td>\n",
       "      <td>False</td>\n",
       "      <td>False</td>\n",
       "      <td>False</td>\n",
       "      <td>[[purchase, order, day, shipping, amount, rece...</td>\n",
       "    </tr>\n",
       "    <tr>\n",
       "      <th>1</th>\n",
       "      <td>1</td>\n",
       "      <td>forwarded message date tue subject please inve...</td>\n",
       "      <td>904</td>\n",
       "      <td>True</td>\n",
       "      <td>False</td>\n",
       "      <td>False</td>\n",
       "      <td>False</td>\n",
       "      <td>False</td>\n",
       "      <td>[[forwarded, message, date, tue, subject, plea...</td>\n",
       "    </tr>\n",
       "    <tr>\n",
       "      <th>2</th>\n",
       "      <td>2</td>\n",
       "      <td>forwarded message cc sent friday pdt subject f...</td>\n",
       "      <td>1230</td>\n",
       "      <td>False</td>\n",
       "      <td>False</td>\n",
       "      <td>False</td>\n",
       "      <td>False</td>\n",
       "      <td>True</td>\n",
       "      <td>[[forwarded, message, cc, sent, friday, pdt, s...</td>\n",
       "    </tr>\n",
       "    <tr>\n",
       "      <th>3</th>\n",
       "      <td>3</td>\n",
       "      <td>payment history missing credit report speciali...</td>\n",
       "      <td>903</td>\n",
       "      <td>False</td>\n",
       "      <td>True</td>\n",
       "      <td>False</td>\n",
       "      <td>False</td>\n",
       "      <td>False</td>\n",
       "      <td>[[payment, history, missing, credit, report, s...</td>\n",
       "    </tr>\n",
       "    <tr>\n",
       "      <th>4</th>\n",
       "      <td>4</td>\n",
       "      <td>payment history missing credit report made mis...</td>\n",
       "      <td>851</td>\n",
       "      <td>False</td>\n",
       "      <td>True</td>\n",
       "      <td>False</td>\n",
       "      <td>False</td>\n",
       "      <td>False</td>\n",
       "      <td>[[payment, history, missing, credit, report, m...</td>\n",
       "    </tr>\n",
       "  </tbody>\n",
       "</table>\n",
       "</div>"
      ],
      "text/plain": [
       "   Complaint_No                                          narrative  \\\n",
       "0             0  purchase order day shipping amount receive pro...   \n",
       "1             1  forwarded message date tue subject please inve...   \n",
       "2             2  forwarded message cc sent friday pdt subject f...   \n",
       "3             3  payment history missing credit report speciali...   \n",
       "4             4  payment history missing credit report made mis...   \n",
       "\n",
       "   narrative_length  credit_card  credit_reporting  debt_collection  \\\n",
       "0              1705         True             False            False   \n",
       "1               904         True             False            False   \n",
       "2              1230        False             False            False   \n",
       "3               903        False              True            False   \n",
       "4               851        False              True            False   \n",
       "\n",
       "   mortgages_and_loans  retail_banking  \\\n",
       "0                False           False   \n",
       "1                False           False   \n",
       "2                False            True   \n",
       "3                False           False   \n",
       "4                False           False   \n",
       "\n",
       "                            Complaint_tokenized_text  \n",
       "0  [[purchase, order, day, shipping, amount, rece...  \n",
       "1  [[forwarded, message, date, tue, subject, plea...  \n",
       "2  [[forwarded, message, cc, sent, friday, pdt, s...  \n",
       "3  [[payment, history, missing, credit, report, s...  \n",
       "4  [[payment, history, missing, credit, report, m...  "
      ]
     },
     "execution_count": 43,
     "metadata": {},
     "output_type": "execute_result"
    }
   ],
   "source": [
    "import nltk\n",
    "nltk.download('punkt')\n",
    "from nltk import word_tokenize, sent_tokenize\n",
    "\n",
    "# Function to apply sentence and word tokenization\n",
    "def tokenize_text(text):\n",
    "    sentences = sent_tokenize(text)\n",
    "    words = [word_tokenize(sentence) for sentence in sentences]\n",
    "    return words\n",
    "\n",
    "df['Complaint_tokenized_text'] = df['narrative'].apply(tokenize_text)\n",
    "\n",
    "df.head()"
   ]
  },
  {
   "cell_type": "code",
   "execution_count": 44,
   "id": "bc86bc19",
   "metadata": {
    "colab": {
     "base_uri": "https://localhost:8080/"
    },
    "id": "bc86bc19",
    "outputId": "f3708b06-666e-4cf0-90af-360198e2a44c"
   },
   "outputs": [
    {
     "data": {
      "text/plain": [
       "['purchase',\n",
       " 'order',\n",
       " 'day',\n",
       " 'shipping',\n",
       " 'amount',\n",
       " 'receive',\n",
       " 'product',\n",
       " 'week',\n",
       " 'sent',\n",
       " 'followup',\n",
       " 'email',\n",
       " 'exact',\n",
       " 'verbiage',\n",
       " 'paid',\n",
       " 'two',\n",
       " 'day',\n",
       " 'shipping',\n",
       " 'received',\n",
       " 'order',\n",
       " 'company',\n",
       " 'responded',\n",
       " 'im',\n",
       " 'sorry',\n",
       " 'inform',\n",
       " 'due',\n",
       " 'unusually',\n",
       " 'high',\n",
       " 'order',\n",
       " 'volume',\n",
       " 'order',\n",
       " 'shipped',\n",
       " 'several',\n",
       " 'week',\n",
       " 'stock',\n",
       " 'since',\n",
       " 'early',\n",
       " 'due',\n",
       " 'high',\n",
       " 'demand',\n",
       " 'although',\n",
       " 'continuing',\n",
       " 'take',\n",
       " 'order',\n",
       " 'guaranteeing',\n",
       " 'receive',\n",
       " 'order',\n",
       " 'place',\n",
       " 'due',\n",
       " 'time',\n",
       " 'mask',\n",
       " 'order',\n",
       " 'exact',\n",
       " 'shipping',\n",
       " 'date',\n",
       " 'right',\n",
       " 'however',\n",
       " 'guarantee',\n",
       " 'ship',\n",
       " 'soon',\n",
       " 'soon',\n",
       " 'delivers',\n",
       " 'product',\n",
       " 'u',\n",
       " 'getting',\n",
       " 'small',\n",
       " 'shipment',\n",
       " 'shipping',\n",
       " 'first',\n",
       " 'come',\n",
       " 'first',\n",
       " 'served',\n",
       " 'basis',\n",
       " 'appreciate',\n",
       " 'patience',\n",
       " 'fulfill',\n",
       " 'order',\n",
       " 'quickly',\n",
       " 'recommend',\n",
       " 'keeping',\n",
       " 'order',\n",
       " 'lose',\n",
       " 'place',\n",
       " 'line',\n",
       " 'cancel',\n",
       " 'distributor',\n",
       " 'stock',\n",
       " 'moment',\n",
       " 'prefer',\n",
       " 'cancel',\n",
       " 'please',\n",
       " 'note',\n",
       " 'ask',\n",
       " 'via',\n",
       " 'email',\n",
       " 'cancel',\n",
       " 'accordance',\n",
       " 'cancellation',\n",
       " 'policy',\n",
       " 'agreed',\n",
       " 'checkout',\n",
       " 'electronic',\n",
       " 'inventory',\n",
       " 'online',\n",
       " 'requested',\n",
       " 'order',\n",
       " 'canceled',\n",
       " 'refund',\n",
       " 'issued',\n",
       " 'canceled',\n",
       " 'order',\n",
       " 'sent',\n",
       " 'verification',\n",
       " 'order',\n",
       " 'canceled',\n",
       " 'refunded',\n",
       " 'item',\n",
       " 'particulate',\n",
       " 'respirator',\n",
       " 'refunded',\n",
       " 'subtotal',\n",
       " 'shipping',\n",
       " 'tax',\n",
       " 'total',\n",
       " 'usd',\n",
       " 'visa',\n",
       " 'ending',\n",
       " 'refund',\n",
       " 'called',\n",
       " 'disputed',\n",
       " 'amount',\n",
       " 'stated',\n",
       " 'nothing',\n",
       " 'needed',\n",
       " 'submitted',\n",
       " 'address',\n",
       " 'issue',\n",
       " 'recharged',\n",
       " 'item',\n",
       " 'removing',\n",
       " 'called',\n",
       " 'back',\n",
       " 'dispute',\n",
       " 'amount',\n",
       " 'transaction',\n",
       " 'rebillmerchandiserobert',\n",
       " 'ca',\n",
       " 'purchased',\n",
       " 'thu',\n",
       " 'posted',\n",
       " 'wed',\n",
       " 'purchased',\n",
       " 'appears',\n",
       " 'statement',\n",
       " 'transaction',\n",
       " 'rebill',\n",
       " 'ca',\n",
       " 'u',\n",
       " 'followed',\n",
       " 'see',\n",
       " 'status',\n",
       " 'case',\n",
       " 'submitted',\n",
       " 'documentation',\n",
       " 'showing',\n",
       " 'canceled',\n",
       " 'order',\n",
       " 'supposed',\n",
       " 'submit',\n",
       " 'refund',\n",
       " 'called',\n",
       " 'back',\n",
       " 'speak',\n",
       " 'manager',\n",
       " 'case',\n",
       " 'stated',\n",
       " 'dispute',\n",
       " 'ruled',\n",
       " 'favor',\n",
       " 'charge',\n",
       " 'removed',\n",
       " 'card',\n",
       " 'capital',\n",
       " 'one',\n",
       " 'removed',\n",
       " 'purchase',\n",
       " 'bill',\n",
       " 'purchase',\n",
       " 'adjustmentmerchandiserobert',\n",
       " 'j',\n",
       " 'posted',\n",
       " 'fri',\n",
       " 'purchased',\n",
       " 'appears',\n",
       " 'statement',\n",
       " 'purchase',\n",
       " 'adjustment',\n",
       " 'capital',\n",
       " 'one',\n",
       " 'recharges',\n",
       " 'amount',\n",
       " 'transaction',\n",
       " 'rebillmerchandiserobert',\n",
       " 'j',\n",
       " 'purchased',\n",
       " 'thu',\n",
       " 'posted',\n",
       " 'mon',\n",
       " 'purchased',\n",
       " 'appears',\n",
       " 'statement',\n",
       " 'transaction',\n",
       " 'rebill',\n",
       " 'called',\n",
       " 'capital',\n",
       " 'one',\n",
       " 'requested',\n",
       " 'recharge',\n",
       " 'stated',\n",
       " 'visa',\n",
       " 'ruled',\n",
       " 'case',\n",
       " 'pretended',\n",
       " 'remove',\n",
       " 'purchase',\n",
       " 'knew',\n",
       " 'anything',\n",
       " 'case',\n",
       " 'manager',\n",
       " 'ruling',\n",
       " 'favor']"
      ]
     },
     "execution_count": 44,
     "metadata": {},
     "output_type": "execute_result"
    }
   ],
   "source": [
    "df[\"Complaint_tokenized_text\"][0][0]"
   ]
  },
  {
   "cell_type": "markdown",
   "id": "9d52b13e",
   "metadata": {
    "id": "9d52b13e"
   },
   "source": [
    "## split data"
   ]
  },
  {
   "cell_type": "code",
   "execution_count": 45,
   "id": "37f15dd7",
   "metadata": {
    "colab": {
     "base_uri": "https://localhost:8080/"
    },
    "id": "37f15dd7",
    "outputId": "99be9e2d-457a-4f2d-d0d3-39995bbf25c1"
   },
   "outputs": [
    {
     "name": "stdout",
     "output_type": "stream",
     "text": [
      "<class 'pandas.core.frame.DataFrame'>\n",
      "Index: 162411 entries, 0 to 162420\n",
      "Data columns (total 9 columns):\n",
      " #   Column                    Non-Null Count   Dtype \n",
      "---  ------                    --------------   ----- \n",
      " 0   Complaint_No              162411 non-null  int64 \n",
      " 1   narrative                 162411 non-null  object\n",
      " 2   narrative_length          162411 non-null  int64 \n",
      " 3   credit_card               162411 non-null  bool  \n",
      " 4   credit_reporting          162411 non-null  bool  \n",
      " 5   debt_collection           162411 non-null  bool  \n",
      " 6   mortgages_and_loans       162411 non-null  bool  \n",
      " 7   retail_banking            162411 non-null  bool  \n",
      " 8   Complaint_tokenized_text  162411 non-null  object\n",
      "dtypes: bool(5), int64(2), object(2)\n",
      "memory usage: 11.0+ MB\n"
     ]
    }
   ],
   "source": [
    "df.info()"
   ]
  },
  {
   "cell_type": "code",
   "execution_count": 46,
   "id": "8da58d15",
   "metadata": {
    "id": "8da58d15"
   },
   "outputs": [],
   "source": [
    "X = df['narrative'].values"
   ]
  },
  {
   "cell_type": "code",
   "execution_count": 47,
   "id": "b9a3c6e4",
   "metadata": {
    "colab": {
     "base_uri": "https://localhost:8080/"
    },
    "id": "b9a3c6e4",
    "outputId": "4e9fb88e-8724-4245-97cd-7eed084faf39"
   },
   "outputs": [
    {
     "data": {
      "text/plain": [
       "array(['purchase order day shipping amount receive product week sent followup email exact verbiage paid two day shipping received order company responded im sorry inform due unusually high order volume order shipped several week stock since early due high demand although continuing take order guaranteeing receive order place due time mask order exact shipping date right however guarantee ship soon soon delivers product u getting small shipment shipping first come first served basis appreciate patience fulfill order quickly recommend keeping order lose place line cancel distributor stock moment prefer cancel please note ask via email cancel accordance cancellation policy agreed checkout electronic inventory online requested order canceled refund issued canceled order sent verification order canceled refunded item particulate respirator refunded subtotal shipping tax total usd visa ending refund called disputed amount stated nothing needed submitted address issue recharged item removing called back dispute amount transaction rebillmerchandiserobert ca purchased thu posted wed purchased appears statement transaction rebill ca u followed see status case submitted documentation showing canceled order supposed submit refund called back speak manager case stated dispute ruled favor charge removed card capital one removed purchase bill purchase adjustmentmerchandiserobert j posted fri purchased appears statement purchase adjustment capital one recharges amount transaction rebillmerchandiserobert j purchased thu posted mon purchased appears statement transaction rebill called capital one requested recharge stated visa ruled case pretended remove purchase knew anything case manager ruling favor',\n",
       "       'forwarded message date tue subject please investigate comenity bank retailer card scam sent hello name scammed comenity bank credit card provider company childrens place new york forever victoria secret original credit comenity bank lower limit began charge overage fee along late fee began pay close attention card find limit also changed well incurring overage late fee reached company comenity bank stated would change credit limit original limit reached told summit payment account corrected comenity bank credit card impacted credit score plummeted negative status im currently paying price due corruption affected detrimental way debt due company charging overage fee well late fee even initial credit limit fluctuating tremendously company charge major fee account willing correct account nervous said attorney reason im reaching im employee company ruining credit plz help name contact info thank',\n",
       "       'forwarded message cc sent friday pdt subject final legal payment well fargo well fargo clearly wrong need look actually opened account see court hearing several different government agency reporting well including branch put open account numerous fraudulent charge debit card connected account clearly due fact well fargo maintain clearly required encryption card keep secure adding damage request small claim lawsuit time take away running business branch required come branch multiple time get fraudulent charge removed actually present strong case proper consumer protection agency well fargo immediately barred issuing account debit card insure agency card adequate prevent fraudulent use also requesting punitive treble damage sum hour take work handle lawsuit along legal cost filing lawsuit county small claim court today well fargo outrageous fraudulent conduct clearly warrant punitive damage also sharing every possible consumer protection agency find would think well fargo enough adverse publicity fraudulent conduct last year introduce small claim suit clearly establishing well fargo established business practice fraud customer ca judge really need reminded might want immediately run bonus payment legal department',\n",
       "       ..., 'name', 'name', 'name'], dtype=object)"
      ]
     },
     "execution_count": 47,
     "metadata": {},
     "output_type": "execute_result"
    }
   ],
   "source": [
    "X"
   ]
  },
  {
   "cell_type": "code",
   "execution_count": 49,
   "id": "2ea92edd",
   "metadata": {
    "id": "2ea92edd"
   },
   "outputs": [],
   "source": [
    "y = np.argmax(df[['credit_card', 'credit_reporting', 'debt_collection', 'mortgages_and_loans', 'retail_banking']].values, axis=1)"
   ]
  },
  {
   "cell_type": "code",
   "execution_count": 51,
   "id": "2882ffef",
   "metadata": {
    "colab": {
     "base_uri": "https://localhost:8080/"
    },
    "id": "2882ffef",
    "outputId": "63fc87b1-e56f-4bd3-9f69-685b983789dc"
   },
   "outputs": [
    {
     "data": {
      "text/plain": [
       "(162411,)"
      ]
     },
     "execution_count": 51,
     "metadata": {},
     "output_type": "execute_result"
    }
   ],
   "source": [
    "y.shape"
   ]
  },
  {
   "cell_type": "code",
   "execution_count": 52,
   "id": "38b1e805",
   "metadata": {
    "id": "38b1e805"
   },
   "outputs": [],
   "source": [
    "from sklearn.model_selection import train_test_split\n",
    "\n",
    "X_train,X_test,y_train,y_test = train_test_split(X,y,test_size=0.2 , random_state=22)"
   ]
  },
  {
   "cell_type": "code",
   "execution_count": 53,
   "id": "fa18f850",
   "metadata": {
    "colab": {
     "base_uri": "https://localhost:8080/"
    },
    "id": "fa18f850",
    "outputId": "135553e1-dc5f-4b2d-acb2-2a3391e82552"
   },
   "outputs": [
    {
     "data": {
      "text/plain": [
       "(129928,)"
      ]
     },
     "execution_count": 53,
     "metadata": {},
     "output_type": "execute_result"
    }
   ],
   "source": [
    "X_train.shape"
   ]
  },
  {
   "cell_type": "code",
   "execution_count": 54,
   "id": "fefa49c4",
   "metadata": {
    "colab": {
     "base_uri": "https://localhost:8080/"
    },
    "id": "fefa49c4",
    "outputId": "29998037-9464-4798-c9ee-378c6e3ef273"
   },
   "outputs": [
    {
     "data": {
      "text/plain": [
       "(129928,)"
      ]
     },
     "execution_count": 54,
     "metadata": {},
     "output_type": "execute_result"
    }
   ],
   "source": [
    "y_train.shape"
   ]
  },
  {
   "cell_type": "code",
   "execution_count": 55,
   "id": "88345dde",
   "metadata": {
    "colab": {
     "base_uri": "https://localhost:8080/"
    },
    "id": "88345dde",
    "outputId": "e6297202-c42a-4bd6-a3e8-8f7201e32b9d"
   },
   "outputs": [
    {
     "data": {
      "text/plain": [
       "(32483,)"
      ]
     },
     "execution_count": 55,
     "metadata": {},
     "output_type": "execute_result"
    }
   ],
   "source": [
    "X_test.shape"
   ]
  },
  {
   "cell_type": "code",
   "execution_count": 56,
   "id": "72546528",
   "metadata": {
    "colab": {
     "base_uri": "https://localhost:8080/"
    },
    "id": "72546528",
    "outputId": "152ba387-4c4f-4ba9-8873-78b84a38e5f4"
   },
   "outputs": [
    {
     "data": {
      "text/plain": [
       "(32483,)"
      ]
     },
     "execution_count": 56,
     "metadata": {},
     "output_type": "execute_result"
    }
   ],
   "source": [
    "y_test.shape"
   ]
  },
  {
   "cell_type": "markdown",
   "id": "dce90d1e",
   "metadata": {
    "id": "dce90d1e"
   },
   "source": [
    "## Modeling\n",
    "### using Multinomial Naive Bayes because we have multi labels"
   ]
  },
  {
   "cell_type": "markdown",
   "id": "ded76007",
   "metadata": {
    "id": "ded76007"
   },
   "source": [
    "#### TF_IDF    (Term Frequency & Inverse Document Frequency)"
   ]
  },
  {
   "cell_type": "code",
   "execution_count": 61,
   "id": "b2eee3b3",
   "metadata": {
    "colab": {
     "base_uri": "https://localhost:8080/"
    },
    "id": "b2eee3b3",
    "outputId": "809cafd3-4db9-4146-ea80-b68b8cdc71fd"
   },
   "outputs": [
    {
     "name": "stdout",
     "output_type": "stream",
     "text": [
      "Accuracy: 0.81\n",
      "Classification Report:\n",
      "               precision    recall  f1-score   support\n",
      "\n",
      "           0       0.78      0.58      0.67      3075\n",
      "           1       0.80      0.96      0.87     18284\n",
      "           2       0.85      0.45      0.59      4569\n",
      "           3       0.80      0.79      0.79      3759\n",
      "           4       0.90      0.71      0.79      2796\n",
      "\n",
      "    accuracy                           0.81     32483\n",
      "   macro avg       0.83      0.70      0.74     32483\n",
      "weighted avg       0.82      0.81      0.80     32483\n",
      "\n"
     ]
    }
   ],
   "source": [
    "from sklearn.feature_extraction.text import TfidfVectorizer\n",
    "from sklearn.naive_bayes import MultinomialNB\n",
    "from sklearn.pipeline import make_pipeline\n",
    "from sklearn.metrics import accuracy_score, classification_report\n",
    "\n",
    "# Create a pipeline with a TF-IDF vectorizer and a Multinomial Naive Bayes classifier\n",
    "model1 = make_pipeline(TfidfVectorizer(), MultinomialNB())\n",
    "\n",
    "# Train the model\n",
    "model1.fit(X_train, y_train)\n",
    "\n",
    "# Predict on the test set\n",
    "y_pred = model1.predict(X_test)\n",
    "\n",
    "# Evaluate the model\n",
    "accuracy = accuracy_score(y_test, y_pred)\n",
    "print(f\"Accuracy: {accuracy:.2f}\")\n",
    "\n",
    "# Print classification report\n",
    "print(\"Classification Report:\\n\", classification_report(y_test, y_pred))"
   ]
  },
  {
   "cell_type": "markdown",
   "id": "b1642098",
   "metadata": {
    "id": "b1642098"
   },
   "source": [
    "## Cross-validation"
   ]
  },
  {
   "cell_type": "code",
   "execution_count": 62,
   "id": "07aefab9",
   "metadata": {
    "colab": {
     "base_uri": "https://localhost:8080/"
    },
    "id": "07aefab9",
    "outputId": "b5c3dbe6-fe42-4c9a-f014-bb240e5dff4a"
   },
   "outputs": [
    {
     "name": "stdout",
     "output_type": "stream",
     "text": [
      "Cross-Validation Scores: [0.81008528 0.79628717 0.80503048 0.81857644 0.80629272]\n",
      "Mean Accuracy: 0.81\n"
     ]
    }
   ],
   "source": [
    "from sklearn.model_selection import cross_val_score\n",
    "\n",
    "cv_scores = cross_val_score(model1, X, y, cv=5, scoring='accuracy')\n",
    "print(f\"Cross-Validation Scores: {cv_scores}\")\n",
    "print(f\"Mean Accuracy: {np.mean(cv_scores):.2f}\")"
   ]
  },
  {
   "cell_type": "markdown",
   "id": "ed572063",
   "metadata": {
    "id": "ed572063"
   },
   "source": [
    "## Random Forest"
   ]
  },
  {
   "cell_type": "code",
   "execution_count": 63,
   "id": "7cd3f515",
   "metadata": {
    "colab": {
     "base_uri": "https://localhost:8080/"
    },
    "id": "7cd3f515",
    "outputId": "98b2035b-512b-46e7-8b5d-00a05a966a0b"
   },
   "outputs": [
    {
     "name": "stdout",
     "output_type": "stream",
     "text": [
      "Random Forest Accuracy: 0.88\n",
      "Random Forest Classification Report:\n",
      "               precision    recall  f1-score   support\n",
      "\n",
      "           0       0.83      0.70      0.76      3075\n",
      "           1       0.89      0.98      0.93     18284\n",
      "           2       0.91      0.70      0.79      4569\n",
      "           3       0.87      0.81      0.84      3759\n",
      "           4       0.87      0.84      0.85      2796\n",
      "\n",
      "    accuracy                           0.88     32483\n",
      "   macro avg       0.87      0.81      0.83     32483\n",
      "weighted avg       0.88      0.88      0.88     32483\n",
      "\n"
     ]
    }
   ],
   "source": [
    "from sklearn.ensemble import RandomForestClassifier\n",
    "from sklearn.pipeline import make_pipeline\n",
    "from sklearn.metrics import accuracy_score, classification_report\n",
    "\n",
    "# Create a pipeline with a TF-IDF vectorizer and a Random Forest classifier\n",
    "model2 = make_pipeline(TfidfVectorizer(), RandomForestClassifier(n_estimators=300))\n",
    "\n",
    "# Train the model\n",
    "model2.fit(X_train, y_train)\n",
    "\n",
    "# Predict on the test set\n",
    "y_pred_rf = model2.predict(X_test)\n",
    "\n",
    "# Evaluate the model\n",
    "accuracy_rf = accuracy_score(y_test, y_pred_rf)\n",
    "print(f\"Random Forest Accuracy: {accuracy_rf:.2f}\")\n",
    "\n",
    "# Print classification report for Random Forest\n",
    "print(\"Random Forest Classification Report:\\n\", classification_report(y_test, y_pred_rf))\n"
   ]
  },
  {
   "cell_type": "code",
   "execution_count": 76,
   "id": "ed7-fkYp3cd_",
   "metadata": {
    "colab": {
     "base_uri": "https://localhost:8080/"
    },
    "id": "ed7-fkYp3cd_",
    "outputId": "a63ace91-02dd-4607-a18a-faca65a00ed1"
   },
   "outputs": [
    {
     "data": {
      "text/plain": [
       "['rfc_model.pkl']"
      ]
     },
     "execution_count": 76,
     "metadata": {},
     "output_type": "execute_result"
    }
   ],
   "source": [
    "import joblib\n",
    "joblib.dump(model2, 'rfc_model.pkl')"
   ]
  },
  {
   "cell_type": "code",
   "execution_count": 65,
   "id": "93f8e887",
   "metadata": {
    "colab": {
     "base_uri": "https://localhost:8080/"
    },
    "id": "93f8e887",
    "outputId": "5a3c6a14-7f29-41fb-c3ca-f7b1658fd642"
   },
   "outputs": [
    {
     "name": "stdout",
     "output_type": "stream",
     "text": [
      "Accuracy: 0.82\n",
      "Classification Report:\n",
      "               precision    recall  f1-score   support\n",
      "\n",
      "           0       0.65      0.77      0.70      3075\n",
      "           1       0.92      0.84      0.88     18284\n",
      "           2       0.72      0.69      0.70      4569\n",
      "           3       0.71      0.88      0.79      3759\n",
      "           4       0.79      0.90      0.84      2796\n",
      "\n",
      "    accuracy                           0.82     32483\n",
      "   macro avg       0.76      0.82      0.78     32483\n",
      "weighted avg       0.83      0.82      0.82     32483\n",
      "\n"
     ]
    }
   ],
   "source": [
    "from sklearn.feature_extraction.text import CountVectorizer\n",
    "# Create a pipeline with a CountVectorizer and a Multinomial Naive Bayes classifier\n",
    "model2 = make_pipeline(CountVectorizer(), MultinomialNB())\n",
    "\n",
    "# Train the model\n",
    "model2.fit(X_train, y_train)\n",
    "\n",
    "# Predict on the test set\n",
    "y_pred = model2.predict(X_test)\n",
    "\n",
    "# Evaluate the model\n",
    "accuracy = accuracy_score(y_test, y_pred)\n",
    "print(f\"Accuracy: {accuracy:.2f}\")\n",
    "\n",
    "# Print classification report\n",
    "print(\"Classification Report:\\n\", classification_report(y_test, y_pred))"
   ]
  },
  {
   "cell_type": "markdown",
   "id": "0451586f",
   "metadata": {
    "id": "0451586f"
   },
   "source": [
    "## Cross-validation"
   ]
  },
  {
   "cell_type": "code",
   "execution_count": null,
   "id": "dedcd1ae",
   "metadata": {
    "id": "dedcd1ae",
    "outputId": "4f5d12b5-5435-413d-a90c-0640593de93e"
   },
   "outputs": [
    {
     "name": "stdout",
     "output_type": "stream",
     "text": [
      "Cross-Validation Scores: [0.82135271 0.8099255  0.80355274 0.80995628 0.82005418]\n",
      "Mean Accuracy: 0.81\n"
     ]
    }
   ],
   "source": [
    "'''from sklearn.model_selection import cross_val_score\n",
    "\n",
    "cv_scores = cross_val_score(model2, X, y, cv=5, scoring='accuracy')\n",
    "print(f\"Cross-Validation Scores: {cv_scores}\")\n",
    "print(f\"Mean Accuracy: {np.mean(cv_scores):.2f}\")'''"
   ]
  },
  {
   "cell_type": "code",
   "execution_count": 66,
   "id": "nvY6n3wwl1eU",
   "metadata": {
    "colab": {
     "base_uri": "https://localhost:8080/",
     "height": 573
    },
    "id": "nvY6n3wwl1eU",
    "outputId": "fdd64dc6-8be8-4663-fb9f-95913801e045"
   },
   "outputs": [
    {
     "data": {
      "image/png": "[encoded data removed]",
      "text/plain": [
       "<Figure size 800x600 with 2 Axes>"
      ]
     },
     "metadata": {},
     "output_type": "display_data"
    }
   ],
   "source": [
    "from sklearn.metrics import confusion_matrix\n",
    "import seaborn as sns\n",
    "import matplotlib.pyplot as plt\n",
    "\n",
    "# Create a confusion matrix\n",
    "conf_matrix = confusion_matrix(y_test, y_pred)\n",
    "\n",
    "# Plot the confusion matrix\n",
    "plt.figure(figsize=(8, 6))\n",
    "sns.heatmap(conf_matrix, annot=True, fmt='d', cmap='Blues', xticklabels=['Class 0', 'Class 1', 'Class 2', 'Class 3', 'Class 4'], yticklabels=['Class 0', 'Class 1', 'Class 2', 'Class 3', 'Class 4'])\n",
    "plt.xlabel('Predicted')\n",
    "plt.ylabel('True')\n",
    "plt.title('Confusion Matrix')\n",
    "plt.show()"
   ]
  },
  {
   "cell_type": "markdown",
   "id": "5618618c",
   "metadata": {
    "id": "5618618c"
   },
   "source": [
    "## Fine-tune"
   ]
  },
  {
   "cell_type": "code",
   "execution_count": 67,
   "id": "0cac2bd1",
   "metadata": {
    "colab": {
     "base_uri": "https://localhost:8080/"
    },
    "id": "0cac2bd1",
    "outputId": "1e7816a4-3ff5-4b38-946e-daa52779e0e9"
   },
   "outputs": [
    {
     "name": "stdout",
     "output_type": "stream",
     "text": [
      "Best Model Accuracy: 0.88\n",
      "Best Hyperparameters: {'countvectorizer__ngram_range': (1, 3), 'multinomialnb__alpha': 0.12058449429580245}\n",
      "Classification Report:\n",
      "               precision    recall  f1-score   support\n",
      "\n",
      "           0       0.72      0.83      0.77      3075\n",
      "           1       0.96      0.91      0.93     18284\n",
      "           2       0.83      0.80      0.81      4569\n",
      "           3       0.81      0.90      0.85      3759\n",
      "           4       0.84      0.89      0.87      2796\n",
      "\n",
      "    accuracy                           0.88     32483\n",
      "   macro avg       0.83      0.87      0.85     32483\n",
      "weighted avg       0.89      0.88      0.89     32483\n",
      "\n"
     ]
    }
   ],
   "source": [
    "from sklearn.model_selection import RandomizedSearchCV\n",
    "from scipy.stats import uniform\n",
    "\n",
    "# Define the parameter distributions for RandomizedSearchCV\n",
    "param_dist = {\n",
    "    'countvectorizer__ngram_range': [(1, 1), (1, 2), (1, 3)],\n",
    "    'multinomialnb__alpha': uniform(0.1, 1.0),\n",
    "}\n",
    "\n",
    "model = make_pipeline(CountVectorizer(), MultinomialNB())\n",
    "\n",
    "randomized_search = RandomizedSearchCV(\n",
    "    model, param_distributions=param_dist, n_iter=10, cv=5, scoring='accuracy', n_jobs=-1, random_state=42\n",
    ")\n",
    "\n",
    "# Train the model with the best hyperparameters\n",
    "randomized_search.fit(X_train, y_train)\n",
    "\n",
    "# Get the best model from the randomized search\n",
    "best_model = randomized_search.best_estimator_\n",
    "\n",
    "# Predict on the test set\n",
    "y_pred_best = best_model.predict(X_test)\n",
    "\n",
    "# Evaluate the best model\n",
    "accuracy = accuracy_score(y_test, y_pred_best)\n",
    "print(f\"Best Model Accuracy: {accuracy:.2f}\")\n",
    "\n",
    "# Print the best hyperparameters\n",
    "print(\"Best Hyperparameters:\", randomized_search.best_params_)\n",
    "\n",
    "# Print classification report\n",
    "print(\"Classification Report:\\n\", classification_report(y_test, y_pred_best))"
   ]
  },
  {
   "cell_type": "markdown",
   "id": "9a951dd1",
   "metadata": {
    "id": "9a951dd1"
   },
   "source": []
  },
  {
   "cell_type": "markdown",
   "id": "4Wdx-WFYovd7",
   "metadata": {
    "id": "4Wdx-WFYovd7"
   },
   "source": [
    "##Final Dataframe"
   ]
  },
  {
   "cell_type": "code",
   "execution_count": 71,
   "id": "MFPN2G47os3-",
   "metadata": {
    "colab": {
     "base_uri": "https://localhost:8080/",
     "height": 363
    },
    "id": "MFPN2G47os3-",
    "outputId": "b5f9e67f-3ff6-482a-bf19-fa0875834616"
   },
   "outputs": [
    {
     "data": {
      "application/vnd.google.colaboratory.intrinsic+json": {
       "type": "dataframe",
       "variable_name": "final_df"
      },
      "text/html": [
       "\n",
       "  <div id=\"df-2b9b73ea-e17b-47a8-bb72-1d02c30c2e52\" class=\"colab-df-container\">\n",
       "    <div>\n",
       "<style scoped>\n",
       "    .dataframe tbody tr th:only-of-type {\n",
       "        vertical-align: middle;\n",
       "    }\n",
       "\n",
       "    .dataframe tbody tr th {\n",
       "        vertical-align: top;\n",
       "    }\n",
       "\n",
       "    .dataframe thead th {\n",
       "        text-align: right;\n",
       "    }\n",
       "</style>\n",
       "<table border=\"1\" class=\"dataframe\">\n",
       "  <thead>\n",
       "    <tr style=\"text-align: right;\">\n",
       "      <th></th>\n",
       "      <th>Complaint_No</th>\n",
       "      <th>narrative</th>\n",
       "      <th>resolved_team</th>\n",
       "    </tr>\n",
       "  </thead>\n",
       "  <tbody>\n",
       "    <tr>\n",
       "      <th>0</th>\n",
       "      <td>0</td>\n",
       "      <td>purchase order day shipping amount receive pro...</td>\n",
       "      <td>Credit Card Team</td>\n",
       "    </tr>\n",
       "    <tr>\n",
       "      <th>1</th>\n",
       "      <td>1</td>\n",
       "      <td>forwarded message date tue subject please inve...</td>\n",
       "      <td>Credit Card Team</td>\n",
       "    </tr>\n",
       "    <tr>\n",
       "      <th>2</th>\n",
       "      <td>2</td>\n",
       "      <td>forwarded message cc sent friday pdt subject f...</td>\n",
       "      <td>Retail Banking Team</td>\n",
       "    </tr>\n",
       "    <tr>\n",
       "      <th>3</th>\n",
       "      <td>3</td>\n",
       "      <td>payment history missing credit report speciali...</td>\n",
       "      <td>Credit Reporting Team</td>\n",
       "    </tr>\n",
       "    <tr>\n",
       "      <th>4</th>\n",
       "      <td>4</td>\n",
       "      <td>payment history missing credit report made mis...</td>\n",
       "      <td>Credit Reporting Team</td>\n",
       "    </tr>\n",
       "    <tr>\n",
       "      <th>5</th>\n",
       "      <td>5</td>\n",
       "      <td>payment history missing credit report made mis...</td>\n",
       "      <td>Credit Reporting Team</td>\n",
       "    </tr>\n",
       "    <tr>\n",
       "      <th>6</th>\n",
       "      <td>6</td>\n",
       "      <td>va date complaint experian credit bureau invol...</td>\n",
       "      <td>Credit Reporting Team</td>\n",
       "    </tr>\n",
       "    <tr>\n",
       "      <th>7</th>\n",
       "      <td>7</td>\n",
       "      <td>account reported abbreviated name full name se...</td>\n",
       "      <td>Credit Reporting Team</td>\n",
       "    </tr>\n",
       "    <tr>\n",
       "      <th>8</th>\n",
       "      <td>8</td>\n",
       "      <td>account reported abbreviated name full name se...</td>\n",
       "      <td>Credit Reporting Team</td>\n",
       "    </tr>\n",
       "    <tr>\n",
       "      <th>9</th>\n",
       "      <td>9</td>\n",
       "      <td>usdoexxxx account reported abbreviated name fu...</td>\n",
       "      <td>Credit Reporting Team</td>\n",
       "    </tr>\n",
       "  </tbody>\n",
       "</table>\n",
       "</div>\n",
       "    <div class=\"colab-df-buttons\">\n",
       "\n",
       "  <div class=\"colab-df-container\">\n",
       "    <button class=\"colab-df-convert\" onclick=\"convertToInteractive('df-2b9b73ea-e17b-47a8-bb72-1d02c30c2e52')\"\n",
       "            title=\"Convert this dataframe to an interactive table.\"\n",
       "            style=\"display:none;\">\n",
       "\n",
       "  <svg xmlns=\"http://www.w3.org/2000/svg\" height=\"24px\" viewBox=\"0 -960 960 960\">\n",
       "    <path d=\"M120-120v-720h720v720H120Zm60-500h600v-160H180v160Zm220 220h160v-160H400v160Zm0 220h160v-160H400v160ZM180-400h160v-160H180v160Zm440 0h160v-160H620v160ZM180-180h160v-160H180v160Zm440 0h160v-160H620v160Z\"/>\n",
       "  </svg>\n",
       "    </button>\n",
       "\n",
       "  <style>\n",
       "    .colab-df-container {\n",
       "      display:flex;\n",
       "      gap: 12px;\n",
       "    }\n",
       "\n",
       "    .colab-df-convert {\n",
       "      background-color: #E8F0FE;\n",
       "      border: none;\n",
       "      border-radius: 50%;\n",
       "      cursor: pointer;\n",
       "      display: none;\n",
       "      fill: #1967D2;\n",
       "      height: 32px;\n",
       "      padding: 0 0 0 0;\n",
       "      width: 32px;\n",
       "    }\n",
       "\n",
       "    .colab-df-convert:hover {\n",
       "      background-color: #E2EBFA;\n",
       "      box-shadow: 0px 1px 2px rgba(60, 64, 67, 0.3), 0px 1px 3px 1px rgba(60, 64, 67, 0.15);\n",
       "      fill: #174EA6;\n",
       "    }\n",
       "\n",
       "    .colab-df-buttons div {\n",
       "      margin-bottom: 4px;\n",
       "    }\n",
       "\n",
       "    [theme=dark] .colab-df-convert {\n",
       "      background-color: #3B4455;\n",
       "      fill: #D2E3FC;\n",
       "    }\n",
       "\n",
       "    [theme=dark] .colab-df-convert:hover {\n",
       "      background-color: #434B5C;\n",
       "      box-shadow: 0px 1px 3px 1px rgba(0, 0, 0, 0.15);\n",
       "      filter: drop-shadow(0px 1px 2px rgba(0, 0, 0, 0.3));\n",
       "      fill: #FFFFFF;\n",
       "    }\n",
       "  </style>\n",
       "\n",
       "    <script>\n",
       "      const buttonEl =\n",
       "        document.querySelector('#df-2b9b73ea-e17b-47a8-bb72-1d02c30c2e52 button.colab-df-convert');\n",
       "      buttonEl.style.display =\n",
       "        google.colab.kernel.accessAllowed ? 'block' : 'none';\n",
       "\n",
       "      async function convertToInteractive(key) {\n",
       "        const element = document.querySelector('#df-2b9b73ea-e17b-47a8-bb72-1d02c30c2e52');\n",
       "        const dataTable =\n",
       "          await google.colab.kernel.invokeFunction('convertToInteractive',\n",
       "                                                    [key], {});\n",
       "        if (!dataTable) return;\n",
       "\n",
       "        const docLinkHtml = 'Like what you see? Visit the ' +\n",
       "          '<a target=\"_blank\" href=https://colab.research.google.com/notebooks/data_table.ipynb>data table notebook</a>'\n",
       "          + ' to learn more about interactive tables.';\n",
       "        element.innerHTML = '';\n",
       "        dataTable['output_type'] = 'display_data';\n",
       "        await google.colab.output.renderOutput(dataTable, element);\n",
       "        const docLink = document.createElement('div');\n",
       "        docLink.innerHTML = docLinkHtml;\n",
       "        element.appendChild(docLink);\n",
       "      }\n",
       "    </script>\n",
       "  </div>\n",
       "\n",
       "\n",
       "<div id=\"df-6f58cc82-018f-4cb0-af64-64f1e57bf0a8\">\n",
       "  <button class=\"colab-df-quickchart\" onclick=\"quickchart('df-6f58cc82-018f-4cb0-af64-64f1e57bf0a8')\"\n",
       "            title=\"Suggest charts\"\n",
       "            style=\"display:none;\">\n",
       "\n",
       "<svg xmlns=\"http://www.w3.org/2000/svg\" height=\"24px\"viewBox=\"0 0 24 24\"\n",
       "     width=\"24px\">\n",
       "    <g>\n",
       "        <path d=\"M19 3H5c-1.1 0-2 .9-2 2v14c0 1.1.9 2 2 2h14c1.1 0 2-.9 2-2V5c0-1.1-.9-2-2-2zM9 17H7v-7h2v7zm4 0h-2V7h2v10zm4 0h-2v-4h2v4z\"/>\n",
       "    </g>\n",
       "</svg>\n",
       "  </button>\n",
       "\n",
       "<style>\n",
       "  .colab-df-quickchart {\n",
       "      --bg-color: #E8F0FE;\n",
       "      --fill-color: #1967D2;\n",
       "      --hover-bg-color: #E2EBFA;\n",
       "      --hover-fill-color: #174EA6;\n",
       "      --disabled-fill-color: #AAA;\n",
       "      --disabled-bg-color: #DDD;\n",
       "  }\n",
       "\n",
       "  [theme=dark] .colab-df-quickchart {\n",
       "      --bg-color: #3B4455;\n",
       "      --fill-color: #D2E3FC;\n",
       "      --hover-bg-color: #434B5C;\n",
       "      --hover-fill-color: #FFFFFF;\n",
       "      --disabled-bg-color: #3B4455;\n",
       "      --disabled-fill-color: #666;\n",
       "  }\n",
       "\n",
       "  .colab-df-quickchart {\n",
       "    background-color: var(--bg-color);\n",
       "    border: none;\n",
       "    border-radius: 50%;\n",
       "    cursor: pointer;\n",
       "    display: none;\n",
       "    fill: var(--fill-color);\n",
       "    height: 32px;\n",
       "    padding: 0;\n",
       "    width: 32px;\n",
       "  }\n",
       "\n",
       "  .colab-df-quickchart:hover {\n",
       "    background-color: var(--hover-bg-color);\n",
       "    box-shadow: 0 1px 2px rgba(60, 64, 67, 0.3), 0 1px 3px 1px rgba(60, 64, 67, 0.15);\n",
       "    fill: var(--button-hover-fill-color);\n",
       "  }\n",
       "\n",
       "  .colab-df-quickchart-complete:disabled,\n",
       "  .colab-df-quickchart-complete:disabled:hover {\n",
       "    background-color: var(--disabled-bg-color);\n",
       "    fill: var(--disabled-fill-color);\n",
       "    box-shadow: none;\n",
       "  }\n",
       "\n",
       "  .colab-df-spinner {\n",
       "    border: 2px solid var(--fill-color);\n",
       "    border-color: transparent;\n",
       "    border-bottom-color: var(--fill-color);\n",
       "    animation:\n",
       "      spin 1s steps(1) infinite;\n",
       "  }\n",
       "\n",
       "  @keyframes spin {\n",
       "    0% {\n",
       "      border-color: transparent;\n",
       "      border-bottom-color: var(--fill-color);\n",
       "      border-left-color: var(--fill-color);\n",
       "    }\n",
       "    20% {\n",
       "      border-color: transparent;\n",
       "      border-left-color: var(--fill-color);\n",
       "      border-top-color: var(--fill-color);\n",
       "    }\n",
       "    30% {\n",
       "      border-color: transparent;\n",
       "      border-left-color: var(--fill-color);\n",
       "      border-top-color: var(--fill-color);\n",
       "      border-right-color: var(--fill-color);\n",
       "    }\n",
       "    40% {\n",
       "      border-color: transparent;\n",
       "      border-right-color: var(--fill-color);\n",
       "      border-top-color: var(--fill-color);\n",
       "    }\n",
       "    60% {\n",
       "      border-color: transparent;\n",
       "      border-right-color: var(--fill-color);\n",
       "    }\n",
       "    80% {\n",
       "      border-color: transparent;\n",
       "      border-right-color: var(--fill-color);\n",
       "      border-bottom-color: var(--fill-color);\n",
       "    }\n",
       "    90% {\n",
       "      border-color: transparent;\n",
       "      border-bottom-color: var(--fill-color);\n",
       "    }\n",
       "  }\n",
       "</style>\n",
       "\n",
       "  <script>\n",
       "    async function quickchart(key) {\n",
       "      const quickchartButtonEl =\n",
       "        document.querySelector('#' + key + ' button');\n",
       "      quickchartButtonEl.disabled = true;  // To prevent multiple clicks.\n",
       "      quickchartButtonEl.classList.add('colab-df-spinner');\n",
       "      try {\n",
       "        const charts = await google.colab.kernel.invokeFunction(\n",
       "            'suggestCharts', [key], {});\n",
       "      } catch (error) {\n",
       "        console.error('Error during call to suggestCharts:', error);\n",
       "      }\n",
       "      quickchartButtonEl.classList.remove('colab-df-spinner');\n",
       "      quickchartButtonEl.classList.add('colab-df-quickchart-complete');\n",
       "    }\n",
       "    (() => {\n",
       "      let quickchartButtonEl =\n",
       "        document.querySelector('#df-6f58cc82-018f-4cb0-af64-64f1e57bf0a8 button');\n",
       "      quickchartButtonEl.style.display =\n",
       "        google.colab.kernel.accessAllowed ? 'block' : 'none';\n",
       "    })();\n",
       "  </script>\n",
       "</div>\n",
       "\n",
       "    </div>\n",
       "  </div>\n"
      ],
      "text/plain": [
       "   Complaint_No                                          narrative  \\\n",
       "0             0  purchase order day shipping amount receive pro...   \n",
       "1             1  forwarded message date tue subject please inve...   \n",
       "2             2  forwarded message cc sent friday pdt subject f...   \n",
       "3             3  payment history missing credit report speciali...   \n",
       "4             4  payment history missing credit report made mis...   \n",
       "5             5  payment history missing credit report made mis...   \n",
       "6             6  va date complaint experian credit bureau invol...   \n",
       "7             7  account reported abbreviated name full name se...   \n",
       "8             8  account reported abbreviated name full name se...   \n",
       "9             9  usdoexxxx account reported abbreviated name fu...   \n",
       "\n",
       "           resolved_team  \n",
       "0       Credit Card Team  \n",
       "1       Credit Card Team  \n",
       "2    Retail Banking Team  \n",
       "3  Credit Reporting Team  \n",
       "4  Credit Reporting Team  \n",
       "5  Credit Reporting Team  \n",
       "6  Credit Reporting Team  \n",
       "7  Credit Reporting Team  \n",
       "8  Credit Reporting Team  \n",
       "9  Credit Reporting Team  "
      ]
     },
     "execution_count": 71,
     "metadata": {},
     "output_type": "execute_result"
    }
   ],
   "source": [
    "final_df = df[['Complaint_No', 'narrative', 'resolved_team']]\n",
    "final_df.head(10)"
   ]
  },
  {
   "cell_type": "code",
   "execution_count": 72,
   "id": "Y5UOiDvHo02C",
   "metadata": {
    "id": "Y5UOiDvHo02C"
   },
   "outputs": [],
   "source": [
    "# Save the DataFrame to a CSV file\n",
    "final_df.to_csv('final_complaints_dataframe.csv', index=False)"
   ]
  },
  {
   "cell_type": "markdown",
   "id": "SBEIrNe_o-YE",
   "metadata": {
    "id": "SBEIrNe_o-YE"
   },
   "source": [
    "## Error analysis"
   ]
  },
  {
   "cell_type": "code",
   "execution_count": 73,
   "id": "cmb1nPz9pCVo",
   "metadata": {
    "colab": {
     "base_uri": "https://localhost:8080/"
    },
    "id": "cmb1nPz9pCVo",
    "outputId": "00ff4954-ec8f-43de-c8d5-4859695165ed"
   },
   "outputs": [
    {
     "data": {
      "text/plain": [
       "3781"
      ]
     },
     "execution_count": 73,
     "metadata": {},
     "output_type": "execute_result"
    }
   ],
   "source": [
    "# Identify misclassified samples\n",
    "misclassified_samples = [(X_test[i], y_test[i], y_pred_best[i]) for i in range(len(y_test)) if y_test[i] != y_pred_best[i]]\n",
    "len(misclassified_samples)"
   ]
  },
  {
   "cell_type": "markdown",
   "id": "59qkSk7KpJq5",
   "metadata": {
    "id": "59qkSk7KpJq5"
   },
   "source": [
    "##Generating a Report"
   ]
  },
  {
   "cell_type": "code",
   "execution_count": 74,
   "id": "iJnvgI-ipKyx",
   "metadata": {
    "colab": {
     "base_uri": "https://localhost:8080/"
    },
    "id": "iJnvgI-ipKyx",
    "outputId": "cda2d17b-9457-4fa6-cc96-58c3a0f74e9e"
   },
   "outputs": [
    {
     "name": "stdout",
     "output_type": "stream",
     "text": [
      "Report generated successfully: complaints_report_20240404_110016.txt\n"
     ]
    }
   ],
   "source": [
    "from datetime import datetime\n",
    "\n",
    "# Function to generate a report\n",
    "def generate_report(df, accuracy_before_tuning, accuracy_after_tuning, misclassified_samples_before, misclassified_samples_after):\n",
    "    timestamp = datetime.now().strftime(\"%Y%m%d_%H%M%S\")\n",
    "    report_filename = f\"complaints_report_{timestamp}.txt\"\n",
    "\n",
    "    with open(report_filename, 'w') as report_file:\n",
    "        report_file.write(\"Complaints Resolution Report\\n\")\n",
    "        report_file.write(f\"Generated on: {timestamp}\\n\\n\")\n",
    "\n",
    "        # Add findings, insights, and recommendations\n",
    "        report_file.write(\"Findings and Insights:\\n\")\n",
    "        report_file.write(f\" - Before hyperparameter tuning, the model accuracy was {accuracy_before_tuning:.2%}.\\n\")\n",
    "        report_file.write(f\" - After hyperparameter tuning, the model accuracy improved to {accuracy_after_tuning:.2%}.\\n\")\n",
    "        report_file.write(f\" - The error analysis showed {misclassified_samples_before} misclassified samples before tuning and {misclassified_samples_after} after tuning.\\n\")\n",
    "        report_file.write(\" - Recommendations: Use Bag of Words (BOW) with the best hyperparameters for optimal performance.\\n\\n\")\n",
    "\n",
    "    print(f\"Report generated successfully: {report_filename}\")\n",
    "accuracy_before_tuning = 0.81\n",
    "accuracy_after_tuning = 0.88\n",
    "misclassified_samples_before = 1034\n",
    "misclassified_samples_after = 712\n",
    "\n",
    "generate_report(df, accuracy_before_tuning, accuracy_after_tuning, misclassified_samples_before, misclassified_samples_after)"
   ]
  },
  {
   "cell_type": "code",
   "execution_count": null,
   "id": "kSb7siBbxD04",
   "metadata": {
    "id": "kSb7siBbxD04"
   },
   "outputs": [],
   "source": []
  }
 ],
 "metadata": {
  "colab": {
   "provenance": []
  },
  "kernelspec": {
   "display_name": "Python 3",
   "language": "python",
   "name": "python3"
  },
  "language_info": {
   "codemirror_mode": {
    "name": "ipython",
    "version": 3
   },
   "file_extension": ".py",
   "mimetype": "text/x-python",
   "name": "python",
   "nbconvert_exporter": "python",
   "pygments_lexer": "ipython3",
   "version": "3.12.6"
  }
 },
 "nbformat": 4,
 "nbformat_minor": 5
}
